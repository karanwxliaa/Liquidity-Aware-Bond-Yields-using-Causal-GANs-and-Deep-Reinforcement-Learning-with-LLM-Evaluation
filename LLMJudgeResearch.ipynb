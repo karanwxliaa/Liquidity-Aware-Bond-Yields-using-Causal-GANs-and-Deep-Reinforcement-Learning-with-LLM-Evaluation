{
  "nbformat": 4,
  "nbformat_minor": 0,
  "metadata": {
    "colab": {
      "provenance": []
    },
    "kernelspec": {
      "name": "python3",
      "display_name": "Python 3"
    },
    "language_info": {
      "name": "python"
    },
    "widgets": {
      "application/vnd.jupyter.widget-state+json": {
        "391ef9f415844ea5b31afb8a9f2473da": {
          "model_module": "@jupyter-widgets/output",
          "model_name": "OutputModel",
          "model_module_version": "1.0.0",
          "state": {
            "_dom_classes": [],
            "_model_module": "@jupyter-widgets/output",
            "_model_module_version": "1.0.0",
            "_model_name": "OutputModel",
            "_view_count": null,
            "_view_module": "@jupyter-widgets/output",
            "_view_module_version": "1.0.0",
            "_view_name": "OutputView",
            "layout": "IPY_MODEL_8d4613fb58e443feb49f5aff76adb1fc",
            "msg_id": "",
            "outputs": [
              {
                "output_type": "display_data",
                "data": {
                  "text/plain": "✨ You're running DeepEval's latest \u001b[38;2;106;0;255mCorrectness (GEval) Metric\u001b[0m! \u001b[38;2;55;65;81m(using Custom Qwen Model, strict=False, async_mode…\u001b[0m\n",
                  "text/html": "<pre style=\"white-space:pre;overflow-x:auto;line-height:normal;font-family:Menlo,'DejaVu Sans Mono',consolas,'Courier New',monospace\">✨ You're running DeepEval's latest <span style=\"color: #6a00ff; text-decoration-color: #6a00ff\">Correctness (GEval) Metric</span>! <span style=\"color: #374151; text-decoration-color: #374151\">(using Custom Qwen Model, strict=False, async_mode…</span>\n</pre>\n"
                },
                "metadata": {}
              }
            ]
          }
        },
        "8d4613fb58e443feb49f5aff76adb1fc": {
          "model_module": "@jupyter-widgets/base",
          "model_name": "LayoutModel",
          "model_module_version": "1.2.0",
          "state": {
            "_model_module": "@jupyter-widgets/base",
            "_model_module_version": "1.2.0",
            "_model_name": "LayoutModel",
            "_view_count": null,
            "_view_module": "@jupyter-widgets/base",
            "_view_module_version": "1.2.0",
            "_view_name": "LayoutView",
            "align_content": null,
            "align_items": null,
            "align_self": null,
            "border": null,
            "bottom": null,
            "display": null,
            "flex": null,
            "flex_flow": null,
            "grid_area": null,
            "grid_auto_columns": null,
            "grid_auto_flow": null,
            "grid_auto_rows": null,
            "grid_column": null,
            "grid_gap": null,
            "grid_row": null,
            "grid_template_areas": null,
            "grid_template_columns": null,
            "grid_template_rows": null,
            "height": null,
            "justify_content": null,
            "justify_items": null,
            "left": null,
            "margin": null,
            "max_height": null,
            "max_width": null,
            "min_height": null,
            "min_width": null,
            "object_fit": null,
            "object_position": null,
            "order": null,
            "overflow": null,
            "overflow_x": null,
            "overflow_y": null,
            "padding": null,
            "right": null,
            "top": null,
            "visibility": null,
            "width": null
          }
        },
        "5d8d5eb1afc9408f946b819cafb7aa8a": {
          "model_module": "@jupyter-widgets/output",
          "model_name": "OutputModel",
          "model_module_version": "1.0.0",
          "state": {
            "_dom_classes": [],
            "_model_module": "@jupyter-widgets/output",
            "_model_module_version": "1.0.0",
            "_model_name": "OutputModel",
            "_view_count": null,
            "_view_module": "@jupyter-widgets/output",
            "_view_module_version": "1.0.0",
            "_view_name": "OutputView",
            "layout": "IPY_MODEL_0dff2381c9bc4bb1a4fdf514a1cca464",
            "msg_id": "",
            "outputs": [
              {
                "output_type": "display_data",
                "data": {
                  "text/plain": "✨ You're running DeepEval's latest \u001b[38;2;106;0;255mCorrectness (GEval) Metric\u001b[0m! \u001b[38;2;55;65;81m(using Custom Qwen Model, strict=False, async_mode…\u001b[0m\n",
                  "text/html": "<pre style=\"white-space:pre;overflow-x:auto;line-height:normal;font-family:Menlo,'DejaVu Sans Mono',consolas,'Courier New',monospace\">✨ You're running DeepEval's latest <span style=\"color: #6a00ff; text-decoration-color: #6a00ff\">Correctness (GEval) Metric</span>! <span style=\"color: #374151; text-decoration-color: #374151\">(using Custom Qwen Model, strict=False, async_mode…</span>\n</pre>\n"
                },
                "metadata": {}
              }
            ]
          }
        },
        "0dff2381c9bc4bb1a4fdf514a1cca464": {
          "model_module": "@jupyter-widgets/base",
          "model_name": "LayoutModel",
          "model_module_version": "1.2.0",
          "state": {
            "_model_module": "@jupyter-widgets/base",
            "_model_module_version": "1.2.0",
            "_model_name": "LayoutModel",
            "_view_count": null,
            "_view_module": "@jupyter-widgets/base",
            "_view_module_version": "1.2.0",
            "_view_name": "LayoutView",
            "align_content": null,
            "align_items": null,
            "align_self": null,
            "border": null,
            "bottom": null,
            "display": null,
            "flex": null,
            "flex_flow": null,
            "grid_area": null,
            "grid_auto_columns": null,
            "grid_auto_flow": null,
            "grid_auto_rows": null,
            "grid_column": null,
            "grid_gap": null,
            "grid_row": null,
            "grid_template_areas": null,
            "grid_template_columns": null,
            "grid_template_rows": null,
            "height": null,
            "justify_content": null,
            "justify_items": null,
            "left": null,
            "margin": null,
            "max_height": null,
            "max_width": null,
            "min_height": null,
            "min_width": null,
            "object_fit": null,
            "object_position": null,
            "order": null,
            "overflow": null,
            "overflow_x": null,
            "overflow_y": null,
            "padding": null,
            "right": null,
            "top": null,
            "visibility": null,
            "width": null
          }
        },
        "233b68dd217340dca0c2b79d4be6182f": {
          "model_module": "@jupyter-widgets/output",
          "model_name": "OutputModel",
          "model_module_version": "1.0.0",
          "state": {
            "_dom_classes": [],
            "_model_module": "@jupyter-widgets/output",
            "_model_module_version": "1.0.0",
            "_model_name": "OutputModel",
            "_view_count": null,
            "_view_module": "@jupyter-widgets/output",
            "_view_module_version": "1.0.0",
            "_view_name": "OutputView",
            "layout": "IPY_MODEL_45f65dc6899a4b288ff8695f84539685",
            "msg_id": "",
            "outputs": [
              {
                "output_type": "display_data",
                "data": {
                  "text/plain": "✨ You're running DeepEval's latest \u001b[38;2;106;0;255mCorrectness (GEval) Metric\u001b[0m! \u001b[38;2;55;65;81m(using Custom Qwen Model, strict=False, async_mode…\u001b[0m\n",
                  "text/html": "<pre style=\"white-space:pre;overflow-x:auto;line-height:normal;font-family:Menlo,'DejaVu Sans Mono',consolas,'Courier New',monospace\">✨ You're running DeepEval's latest <span style=\"color: #6a00ff; text-decoration-color: #6a00ff\">Correctness (GEval) Metric</span>! <span style=\"color: #374151; text-decoration-color: #374151\">(using Custom Qwen Model, strict=False, async_mode…</span>\n</pre>\n"
                },
                "metadata": {}
              }
            ]
          }
        },
        "45f65dc6899a4b288ff8695f84539685": {
          "model_module": "@jupyter-widgets/base",
          "model_name": "LayoutModel",
          "model_module_version": "1.2.0",
          "state": {
            "_model_module": "@jupyter-widgets/base",
            "_model_module_version": "1.2.0",
            "_model_name": "LayoutModel",
            "_view_count": null,
            "_view_module": "@jupyter-widgets/base",
            "_view_module_version": "1.2.0",
            "_view_name": "LayoutView",
            "align_content": null,
            "align_items": null,
            "align_self": null,
            "border": null,
            "bottom": null,
            "display": null,
            "flex": null,
            "flex_flow": null,
            "grid_area": null,
            "grid_auto_columns": null,
            "grid_auto_flow": null,
            "grid_auto_rows": null,
            "grid_column": null,
            "grid_gap": null,
            "grid_row": null,
            "grid_template_areas": null,
            "grid_template_columns": null,
            "grid_template_rows": null,
            "height": null,
            "justify_content": null,
            "justify_items": null,
            "left": null,
            "margin": null,
            "max_height": null,
            "max_width": null,
            "min_height": null,
            "min_width": null,
            "object_fit": null,
            "object_position": null,
            "order": null,
            "overflow": null,
            "overflow_x": null,
            "overflow_y": null,
            "padding": null,
            "right": null,
            "top": null,
            "visibility": null,
            "width": null
          }
        },
        "13660d77a4f74d8ca4782aa2c0aba7f5": {
          "model_module": "@jupyter-widgets/output",
          "model_name": "OutputModel",
          "model_module_version": "1.0.0",
          "state": {
            "_dom_classes": [],
            "_model_module": "@jupyter-widgets/output",
            "_model_module_version": "1.0.0",
            "_model_name": "OutputModel",
            "_view_count": null,
            "_view_module": "@jupyter-widgets/output",
            "_view_module_version": "1.0.0",
            "_view_name": "OutputView",
            "layout": "IPY_MODEL_251bc9d4d36747d5be20458e63ebe5ff",
            "msg_id": "",
            "outputs": [
              {
                "output_type": "display_data",
                "data": {
                  "text/plain": "✨ You're running DeepEval's latest \u001b[38;2;106;0;255mCorrectness (GEval) Metric\u001b[0m! \u001b[38;2;55;65;81m(using Custom Qwen Model, strict=False, async_mode…\u001b[0m\n",
                  "text/html": "<pre style=\"white-space:pre;overflow-x:auto;line-height:normal;font-family:Menlo,'DejaVu Sans Mono',consolas,'Courier New',monospace\">✨ You're running DeepEval's latest <span style=\"color: #6a00ff; text-decoration-color: #6a00ff\">Correctness (GEval) Metric</span>! <span style=\"color: #374151; text-decoration-color: #374151\">(using Custom Qwen Model, strict=False, async_mode…</span>\n</pre>\n"
                },
                "metadata": {}
              }
            ]
          }
        },
        "251bc9d4d36747d5be20458e63ebe5ff": {
          "model_module": "@jupyter-widgets/base",
          "model_name": "LayoutModel",
          "model_module_version": "1.2.0",
          "state": {
            "_model_module": "@jupyter-widgets/base",
            "_model_module_version": "1.2.0",
            "_model_name": "LayoutModel",
            "_view_count": null,
            "_view_module": "@jupyter-widgets/base",
            "_view_module_version": "1.2.0",
            "_view_name": "LayoutView",
            "align_content": null,
            "align_items": null,
            "align_self": null,
            "border": null,
            "bottom": null,
            "display": null,
            "flex": null,
            "flex_flow": null,
            "grid_area": null,
            "grid_auto_columns": null,
            "grid_auto_flow": null,
            "grid_auto_rows": null,
            "grid_column": null,
            "grid_gap": null,
            "grid_row": null,
            "grid_template_areas": null,
            "grid_template_columns": null,
            "grid_template_rows": null,
            "height": null,
            "justify_content": null,
            "justify_items": null,
            "left": null,
            "margin": null,
            "max_height": null,
            "max_width": null,
            "min_height": null,
            "min_width": null,
            "object_fit": null,
            "object_position": null,
            "order": null,
            "overflow": null,
            "overflow_x": null,
            "overflow_y": null,
            "padding": null,
            "right": null,
            "top": null,
            "visibility": null,
            "width": null
          }
        },
        "4269a15fbc0148b4950e36065a8cce16": {
          "model_module": "@jupyter-widgets/output",
          "model_name": "OutputModel",
          "model_module_version": "1.0.0",
          "state": {
            "_dom_classes": [],
            "_model_module": "@jupyter-widgets/output",
            "_model_module_version": "1.0.0",
            "_model_name": "OutputModel",
            "_view_count": null,
            "_view_module": "@jupyter-widgets/output",
            "_view_module_version": "1.0.0",
            "_view_name": "OutputView",
            "layout": "IPY_MODEL_933e0fe5dd294332b0de80fbfcb0ae7a",
            "msg_id": "",
            "outputs": [
              {
                "output_type": "display_data",
                "data": {
                  "text/plain": "✨ You're running DeepEval's latest \u001b[38;2;106;0;255mCorrectness (GEval) Metric\u001b[0m! \u001b[38;2;55;65;81m(using Custom Qwen Model, strict=False, async_mode…\u001b[0m\n",
                  "text/html": "<pre style=\"white-space:pre;overflow-x:auto;line-height:normal;font-family:Menlo,'DejaVu Sans Mono',consolas,'Courier New',monospace\">✨ You're running DeepEval's latest <span style=\"color: #6a00ff; text-decoration-color: #6a00ff\">Correctness (GEval) Metric</span>! <span style=\"color: #374151; text-decoration-color: #374151\">(using Custom Qwen Model, strict=False, async_mode…</span>\n</pre>\n"
                },
                "metadata": {}
              }
            ]
          }
        },
        "933e0fe5dd294332b0de80fbfcb0ae7a": {
          "model_module": "@jupyter-widgets/base",
          "model_name": "LayoutModel",
          "model_module_version": "1.2.0",
          "state": {
            "_model_module": "@jupyter-widgets/base",
            "_model_module_version": "1.2.0",
            "_model_name": "LayoutModel",
            "_view_count": null,
            "_view_module": "@jupyter-widgets/base",
            "_view_module_version": "1.2.0",
            "_view_name": "LayoutView",
            "align_content": null,
            "align_items": null,
            "align_self": null,
            "border": null,
            "bottom": null,
            "display": null,
            "flex": null,
            "flex_flow": null,
            "grid_area": null,
            "grid_auto_columns": null,
            "grid_auto_flow": null,
            "grid_auto_rows": null,
            "grid_column": null,
            "grid_gap": null,
            "grid_row": null,
            "grid_template_areas": null,
            "grid_template_columns": null,
            "grid_template_rows": null,
            "height": null,
            "justify_content": null,
            "justify_items": null,
            "left": null,
            "margin": null,
            "max_height": null,
            "max_width": null,
            "min_height": null,
            "min_width": null,
            "object_fit": null,
            "object_position": null,
            "order": null,
            "overflow": null,
            "overflow_x": null,
            "overflow_y": null,
            "padding": null,
            "right": null,
            "top": null,
            "visibility": null,
            "width": null
          }
        },
        "6dd084d99419461bbc6c8552ee04a2f8": {
          "model_module": "@jupyter-widgets/output",
          "model_name": "OutputModel",
          "model_module_version": "1.0.0",
          "state": {
            "_dom_classes": [],
            "_model_module": "@jupyter-widgets/output",
            "_model_module_version": "1.0.0",
            "_model_name": "OutputModel",
            "_view_count": null,
            "_view_module": "@jupyter-widgets/output",
            "_view_module_version": "1.0.0",
            "_view_name": "OutputView",
            "layout": "IPY_MODEL_07bf6a49edb8468d80a6622a20450c06",
            "msg_id": "",
            "outputs": [
              {
                "output_type": "display_data",
                "data": {
                  "text/plain": "✨ You're running DeepEval's latest \u001b[38;2;106;0;255mCorrectness (GEval) Metric\u001b[0m! \u001b[38;2;55;65;81m(using Custom Qwen Model, strict=False, async_mode…\u001b[0m\n",
                  "text/html": "<pre style=\"white-space:pre;overflow-x:auto;line-height:normal;font-family:Menlo,'DejaVu Sans Mono',consolas,'Courier New',monospace\">✨ You're running DeepEval's latest <span style=\"color: #6a00ff; text-decoration-color: #6a00ff\">Correctness (GEval) Metric</span>! <span style=\"color: #374151; text-decoration-color: #374151\">(using Custom Qwen Model, strict=False, async_mode…</span>\n</pre>\n"
                },
                "metadata": {}
              }
            ]
          }
        },
        "07bf6a49edb8468d80a6622a20450c06": {
          "model_module": "@jupyter-widgets/base",
          "model_name": "LayoutModel",
          "model_module_version": "1.2.0",
          "state": {
            "_model_module": "@jupyter-widgets/base",
            "_model_module_version": "1.2.0",
            "_model_name": "LayoutModel",
            "_view_count": null,
            "_view_module": "@jupyter-widgets/base",
            "_view_module_version": "1.2.0",
            "_view_name": "LayoutView",
            "align_content": null,
            "align_items": null,
            "align_self": null,
            "border": null,
            "bottom": null,
            "display": null,
            "flex": null,
            "flex_flow": null,
            "grid_area": null,
            "grid_auto_columns": null,
            "grid_auto_flow": null,
            "grid_auto_rows": null,
            "grid_column": null,
            "grid_gap": null,
            "grid_row": null,
            "grid_template_areas": null,
            "grid_template_columns": null,
            "grid_template_rows": null,
            "height": null,
            "justify_content": null,
            "justify_items": null,
            "left": null,
            "margin": null,
            "max_height": null,
            "max_width": null,
            "min_height": null,
            "min_width": null,
            "object_fit": null,
            "object_position": null,
            "order": null,
            "overflow": null,
            "overflow_x": null,
            "overflow_y": null,
            "padding": null,
            "right": null,
            "top": null,
            "visibility": null,
            "width": null
          }
        },
        "5bb46958cc88430fb009b41e7cf47039": {
          "model_module": "@jupyter-widgets/output",
          "model_name": "OutputModel",
          "model_module_version": "1.0.0",
          "state": {
            "_dom_classes": [],
            "_model_module": "@jupyter-widgets/output",
            "_model_module_version": "1.0.0",
            "_model_name": "OutputModel",
            "_view_count": null,
            "_view_module": "@jupyter-widgets/output",
            "_view_module_version": "1.0.0",
            "_view_name": "OutputView",
            "layout": "IPY_MODEL_e2eca17f912b4d8b81da3e8f5d518860",
            "msg_id": "",
            "outputs": [
              {
                "output_type": "display_data",
                "data": {
                  "text/plain": "✨ You're running DeepEval's latest \u001b[38;2;106;0;255mCorrectness (GEval) Metric\u001b[0m! \u001b[38;2;55;65;81m(using Custom Qwen Model, strict=False, async_mode…\u001b[0m\n",
                  "text/html": "<pre style=\"white-space:pre;overflow-x:auto;line-height:normal;font-family:Menlo,'DejaVu Sans Mono',consolas,'Courier New',monospace\">✨ You're running DeepEval's latest <span style=\"color: #6a00ff; text-decoration-color: #6a00ff\">Correctness (GEval) Metric</span>! <span style=\"color: #374151; text-decoration-color: #374151\">(using Custom Qwen Model, strict=False, async_mode…</span>\n</pre>\n"
                },
                "metadata": {}
              }
            ]
          }
        },
        "e2eca17f912b4d8b81da3e8f5d518860": {
          "model_module": "@jupyter-widgets/base",
          "model_name": "LayoutModel",
          "model_module_version": "1.2.0",
          "state": {
            "_model_module": "@jupyter-widgets/base",
            "_model_module_version": "1.2.0",
            "_model_name": "LayoutModel",
            "_view_count": null,
            "_view_module": "@jupyter-widgets/base",
            "_view_module_version": "1.2.0",
            "_view_name": "LayoutView",
            "align_content": null,
            "align_items": null,
            "align_self": null,
            "border": null,
            "bottom": null,
            "display": null,
            "flex": null,
            "flex_flow": null,
            "grid_area": null,
            "grid_auto_columns": null,
            "grid_auto_flow": null,
            "grid_auto_rows": null,
            "grid_column": null,
            "grid_gap": null,
            "grid_row": null,
            "grid_template_areas": null,
            "grid_template_columns": null,
            "grid_template_rows": null,
            "height": null,
            "justify_content": null,
            "justify_items": null,
            "left": null,
            "margin": null,
            "max_height": null,
            "max_width": null,
            "min_height": null,
            "min_width": null,
            "object_fit": null,
            "object_position": null,
            "order": null,
            "overflow": null,
            "overflow_x": null,
            "overflow_y": null,
            "padding": null,
            "right": null,
            "top": null,
            "visibility": null,
            "width": null
          }
        },
        "76774c8409f34bbd920a21fe37488e95": {
          "model_module": "@jupyter-widgets/output",
          "model_name": "OutputModel",
          "model_module_version": "1.0.0",
          "state": {
            "_dom_classes": [],
            "_model_module": "@jupyter-widgets/output",
            "_model_module_version": "1.0.0",
            "_model_name": "OutputModel",
            "_view_count": null,
            "_view_module": "@jupyter-widgets/output",
            "_view_module_version": "1.0.0",
            "_view_name": "OutputView",
            "layout": "IPY_MODEL_187b2cd6dc104aa59822f1505ecc42c7",
            "msg_id": "",
            "outputs": [
              {
                "output_type": "display_data",
                "data": {
                  "text/plain": "✨ You're running DeepEval's latest \u001b[38;2;106;0;255mCorrectness (GEval) Metric\u001b[0m! \u001b[38;2;55;65;81m(using Custom Qwen Model, strict=False, async_mode…\u001b[0m\n",
                  "text/html": "<pre style=\"white-space:pre;overflow-x:auto;line-height:normal;font-family:Menlo,'DejaVu Sans Mono',consolas,'Courier New',monospace\">✨ You're running DeepEval's latest <span style=\"color: #6a00ff; text-decoration-color: #6a00ff\">Correctness (GEval) Metric</span>! <span style=\"color: #374151; text-decoration-color: #374151\">(using Custom Qwen Model, strict=False, async_mode…</span>\n</pre>\n"
                },
                "metadata": {}
              }
            ]
          }
        },
        "187b2cd6dc104aa59822f1505ecc42c7": {
          "model_module": "@jupyter-widgets/base",
          "model_name": "LayoutModel",
          "model_module_version": "1.2.0",
          "state": {
            "_model_module": "@jupyter-widgets/base",
            "_model_module_version": "1.2.0",
            "_model_name": "LayoutModel",
            "_view_count": null,
            "_view_module": "@jupyter-widgets/base",
            "_view_module_version": "1.2.0",
            "_view_name": "LayoutView",
            "align_content": null,
            "align_items": null,
            "align_self": null,
            "border": null,
            "bottom": null,
            "display": null,
            "flex": null,
            "flex_flow": null,
            "grid_area": null,
            "grid_auto_columns": null,
            "grid_auto_flow": null,
            "grid_auto_rows": null,
            "grid_column": null,
            "grid_gap": null,
            "grid_row": null,
            "grid_template_areas": null,
            "grid_template_columns": null,
            "grid_template_rows": null,
            "height": null,
            "justify_content": null,
            "justify_items": null,
            "left": null,
            "margin": null,
            "max_height": null,
            "max_width": null,
            "min_height": null,
            "min_width": null,
            "object_fit": null,
            "object_position": null,
            "order": null,
            "overflow": null,
            "overflow_x": null,
            "overflow_y": null,
            "padding": null,
            "right": null,
            "top": null,
            "visibility": null,
            "width": null
          }
        },
        "09dacf50faf3432eb63f467cb886bbf6": {
          "model_module": "@jupyter-widgets/output",
          "model_name": "OutputModel",
          "model_module_version": "1.0.0",
          "state": {
            "_dom_classes": [],
            "_model_module": "@jupyter-widgets/output",
            "_model_module_version": "1.0.0",
            "_model_name": "OutputModel",
            "_view_count": null,
            "_view_module": "@jupyter-widgets/output",
            "_view_module_version": "1.0.0",
            "_view_name": "OutputView",
            "layout": "IPY_MODEL_316c7fa1add74cc992e86b2b8efc5cde",
            "msg_id": "",
            "outputs": [
              {
                "output_type": "display_data",
                "data": {
                  "text/plain": "✨ You're running DeepEval's latest \u001b[38;2;106;0;255mCorrectness (GEval) Metric\u001b[0m! \u001b[38;2;55;65;81m(using Custom Qwen Model, strict=False, async_mode…\u001b[0m\n",
                  "text/html": "<pre style=\"white-space:pre;overflow-x:auto;line-height:normal;font-family:Menlo,'DejaVu Sans Mono',consolas,'Courier New',monospace\">✨ You're running DeepEval's latest <span style=\"color: #6a00ff; text-decoration-color: #6a00ff\">Correctness (GEval) Metric</span>! <span style=\"color: #374151; text-decoration-color: #374151\">(using Custom Qwen Model, strict=False, async_mode…</span>\n</pre>\n"
                },
                "metadata": {}
              }
            ]
          }
        },
        "316c7fa1add74cc992e86b2b8efc5cde": {
          "model_module": "@jupyter-widgets/base",
          "model_name": "LayoutModel",
          "model_module_version": "1.2.0",
          "state": {
            "_model_module": "@jupyter-widgets/base",
            "_model_module_version": "1.2.0",
            "_model_name": "LayoutModel",
            "_view_count": null,
            "_view_module": "@jupyter-widgets/base",
            "_view_module_version": "1.2.0",
            "_view_name": "LayoutView",
            "align_content": null,
            "align_items": null,
            "align_self": null,
            "border": null,
            "bottom": null,
            "display": null,
            "flex": null,
            "flex_flow": null,
            "grid_area": null,
            "grid_auto_columns": null,
            "grid_auto_flow": null,
            "grid_auto_rows": null,
            "grid_column": null,
            "grid_gap": null,
            "grid_row": null,
            "grid_template_areas": null,
            "grid_template_columns": null,
            "grid_template_rows": null,
            "height": null,
            "justify_content": null,
            "justify_items": null,
            "left": null,
            "margin": null,
            "max_height": null,
            "max_width": null,
            "min_height": null,
            "min_width": null,
            "object_fit": null,
            "object_position": null,
            "order": null,
            "overflow": null,
            "overflow_x": null,
            "overflow_y": null,
            "padding": null,
            "right": null,
            "top": null,
            "visibility": null,
            "width": null
          }
        },
        "f2ea999ba39a4ebeb77a2c763041c9e8": {
          "model_module": "@jupyter-widgets/output",
          "model_name": "OutputModel",
          "model_module_version": "1.0.0",
          "state": {
            "_dom_classes": [],
            "_model_module": "@jupyter-widgets/output",
            "_model_module_version": "1.0.0",
            "_model_name": "OutputModel",
            "_view_count": null,
            "_view_module": "@jupyter-widgets/output",
            "_view_module_version": "1.0.0",
            "_view_name": "OutputView",
            "layout": "IPY_MODEL_e09619a5bc184638b2e680864e145d34",
            "msg_id": "",
            "outputs": [
              {
                "output_type": "display_data",
                "data": {
                  "text/plain": "✨ You're running DeepEval's latest \u001b[38;2;106;0;255mCorrectness (GEval) Metric\u001b[0m! \u001b[38;2;55;65;81m(using Custom Qwen Model, strict=False, async_mode…\u001b[0m\n",
                  "text/html": "<pre style=\"white-space:pre;overflow-x:auto;line-height:normal;font-family:Menlo,'DejaVu Sans Mono',consolas,'Courier New',monospace\">✨ You're running DeepEval's latest <span style=\"color: #6a00ff; text-decoration-color: #6a00ff\">Correctness (GEval) Metric</span>! <span style=\"color: #374151; text-decoration-color: #374151\">(using Custom Qwen Model, strict=False, async_mode…</span>\n</pre>\n"
                },
                "metadata": {}
              }
            ]
          }
        },
        "e09619a5bc184638b2e680864e145d34": {
          "model_module": "@jupyter-widgets/base",
          "model_name": "LayoutModel",
          "model_module_version": "1.2.0",
          "state": {
            "_model_module": "@jupyter-widgets/base",
            "_model_module_version": "1.2.0",
            "_model_name": "LayoutModel",
            "_view_count": null,
            "_view_module": "@jupyter-widgets/base",
            "_view_module_version": "1.2.0",
            "_view_name": "LayoutView",
            "align_content": null,
            "align_items": null,
            "align_self": null,
            "border": null,
            "bottom": null,
            "display": null,
            "flex": null,
            "flex_flow": null,
            "grid_area": null,
            "grid_auto_columns": null,
            "grid_auto_flow": null,
            "grid_auto_rows": null,
            "grid_column": null,
            "grid_gap": null,
            "grid_row": null,
            "grid_template_areas": null,
            "grid_template_columns": null,
            "grid_template_rows": null,
            "height": null,
            "justify_content": null,
            "justify_items": null,
            "left": null,
            "margin": null,
            "max_height": null,
            "max_width": null,
            "min_height": null,
            "min_width": null,
            "object_fit": null,
            "object_position": null,
            "order": null,
            "overflow": null,
            "overflow_x": null,
            "overflow_y": null,
            "padding": null,
            "right": null,
            "top": null,
            "visibility": null,
            "width": null
          }
        },
        "bdf2dcb914c145429a499ede47659db8": {
          "model_module": "@jupyter-widgets/output",
          "model_name": "OutputModel",
          "model_module_version": "1.0.0",
          "state": {
            "_dom_classes": [],
            "_model_module": "@jupyter-widgets/output",
            "_model_module_version": "1.0.0",
            "_model_name": "OutputModel",
            "_view_count": null,
            "_view_module": "@jupyter-widgets/output",
            "_view_module_version": "1.0.0",
            "_view_name": "OutputView",
            "layout": "IPY_MODEL_91b9a5752abd44f1a7fde96dd060e458",
            "msg_id": "",
            "outputs": [
              {
                "output_type": "display_data",
                "data": {
                  "text/plain": "✨ You're running DeepEval's latest \u001b[38;2;106;0;255mCorrectness (GEval) Metric\u001b[0m! \u001b[38;2;55;65;81m(using Custom Qwen Model, strict=False, async_mode…\u001b[0m\n",
                  "text/html": "<pre style=\"white-space:pre;overflow-x:auto;line-height:normal;font-family:Menlo,'DejaVu Sans Mono',consolas,'Courier New',monospace\">✨ You're running DeepEval's latest <span style=\"color: #6a00ff; text-decoration-color: #6a00ff\">Correctness (GEval) Metric</span>! <span style=\"color: #374151; text-decoration-color: #374151\">(using Custom Qwen Model, strict=False, async_mode…</span>\n</pre>\n"
                },
                "metadata": {}
              }
            ]
          }
        },
        "91b9a5752abd44f1a7fde96dd060e458": {
          "model_module": "@jupyter-widgets/base",
          "model_name": "LayoutModel",
          "model_module_version": "1.2.0",
          "state": {
            "_model_module": "@jupyter-widgets/base",
            "_model_module_version": "1.2.0",
            "_model_name": "LayoutModel",
            "_view_count": null,
            "_view_module": "@jupyter-widgets/base",
            "_view_module_version": "1.2.0",
            "_view_name": "LayoutView",
            "align_content": null,
            "align_items": null,
            "align_self": null,
            "border": null,
            "bottom": null,
            "display": null,
            "flex": null,
            "flex_flow": null,
            "grid_area": null,
            "grid_auto_columns": null,
            "grid_auto_flow": null,
            "grid_auto_rows": null,
            "grid_column": null,
            "grid_gap": null,
            "grid_row": null,
            "grid_template_areas": null,
            "grid_template_columns": null,
            "grid_template_rows": null,
            "height": null,
            "justify_content": null,
            "justify_items": null,
            "left": null,
            "margin": null,
            "max_height": null,
            "max_width": null,
            "min_height": null,
            "min_width": null,
            "object_fit": null,
            "object_position": null,
            "order": null,
            "overflow": null,
            "overflow_x": null,
            "overflow_y": null,
            "padding": null,
            "right": null,
            "top": null,
            "visibility": null,
            "width": null
          }
        },
        "84f12701eb444ab09abd8b1c14a15b09": {
          "model_module": "@jupyter-widgets/output",
          "model_name": "OutputModel",
          "model_module_version": "1.0.0",
          "state": {
            "_dom_classes": [],
            "_model_module": "@jupyter-widgets/output",
            "_model_module_version": "1.0.0",
            "_model_name": "OutputModel",
            "_view_count": null,
            "_view_module": "@jupyter-widgets/output",
            "_view_module_version": "1.0.0",
            "_view_name": "OutputView",
            "layout": "IPY_MODEL_99a56df8fb0a4e909144be380fb0a9d5",
            "msg_id": "",
            "outputs": [
              {
                "output_type": "display_data",
                "data": {
                  "text/plain": "✨ You're running DeepEval's latest \u001b[38;2;106;0;255mCorrectness (GEval) Metric\u001b[0m! \u001b[38;2;55;65;81m(using Custom Qwen Model, strict=False, async_mode…\u001b[0m\n",
                  "text/html": "<pre style=\"white-space:pre;overflow-x:auto;line-height:normal;font-family:Menlo,'DejaVu Sans Mono',consolas,'Courier New',monospace\">✨ You're running DeepEval's latest <span style=\"color: #6a00ff; text-decoration-color: #6a00ff\">Correctness (GEval) Metric</span>! <span style=\"color: #374151; text-decoration-color: #374151\">(using Custom Qwen Model, strict=False, async_mode…</span>\n</pre>\n"
                },
                "metadata": {}
              }
            ]
          }
        },
        "99a56df8fb0a4e909144be380fb0a9d5": {
          "model_module": "@jupyter-widgets/base",
          "model_name": "LayoutModel",
          "model_module_version": "1.2.0",
          "state": {
            "_model_module": "@jupyter-widgets/base",
            "_model_module_version": "1.2.0",
            "_model_name": "LayoutModel",
            "_view_count": null,
            "_view_module": "@jupyter-widgets/base",
            "_view_module_version": "1.2.0",
            "_view_name": "LayoutView",
            "align_content": null,
            "align_items": null,
            "align_self": null,
            "border": null,
            "bottom": null,
            "display": null,
            "flex": null,
            "flex_flow": null,
            "grid_area": null,
            "grid_auto_columns": null,
            "grid_auto_flow": null,
            "grid_auto_rows": null,
            "grid_column": null,
            "grid_gap": null,
            "grid_row": null,
            "grid_template_areas": null,
            "grid_template_columns": null,
            "grid_template_rows": null,
            "height": null,
            "justify_content": null,
            "justify_items": null,
            "left": null,
            "margin": null,
            "max_height": null,
            "max_width": null,
            "min_height": null,
            "min_width": null,
            "object_fit": null,
            "object_position": null,
            "order": null,
            "overflow": null,
            "overflow_x": null,
            "overflow_y": null,
            "padding": null,
            "right": null,
            "top": null,
            "visibility": null,
            "width": null
          }
        },
        "d07e2cb9e8564db68d913e23d9e07f9a": {
          "model_module": "@jupyter-widgets/output",
          "model_name": "OutputModel",
          "model_module_version": "1.0.0",
          "state": {
            "_dom_classes": [],
            "_model_module": "@jupyter-widgets/output",
            "_model_module_version": "1.0.0",
            "_model_name": "OutputModel",
            "_view_count": null,
            "_view_module": "@jupyter-widgets/output",
            "_view_module_version": "1.0.0",
            "_view_name": "OutputView",
            "layout": "IPY_MODEL_d8215cc074c74b14a78616ddab01cd3c",
            "msg_id": "",
            "outputs": [
              {
                "output_type": "display_data",
                "data": {
                  "text/plain": "✨ You're running DeepEval's latest \u001b[38;2;106;0;255mCorrectness (GEval) Metric\u001b[0m! \u001b[38;2;55;65;81m(using Custom Qwen Model, strict=False, async_mode…\u001b[0m\n",
                  "text/html": "<pre style=\"white-space:pre;overflow-x:auto;line-height:normal;font-family:Menlo,'DejaVu Sans Mono',consolas,'Courier New',monospace\">✨ You're running DeepEval's latest <span style=\"color: #6a00ff; text-decoration-color: #6a00ff\">Correctness (GEval) Metric</span>! <span style=\"color: #374151; text-decoration-color: #374151\">(using Custom Qwen Model, strict=False, async_mode…</span>\n</pre>\n"
                },
                "metadata": {}
              }
            ]
          }
        },
        "d8215cc074c74b14a78616ddab01cd3c": {
          "model_module": "@jupyter-widgets/base",
          "model_name": "LayoutModel",
          "model_module_version": "1.2.0",
          "state": {
            "_model_module": "@jupyter-widgets/base",
            "_model_module_version": "1.2.0",
            "_model_name": "LayoutModel",
            "_view_count": null,
            "_view_module": "@jupyter-widgets/base",
            "_view_module_version": "1.2.0",
            "_view_name": "LayoutView",
            "align_content": null,
            "align_items": null,
            "align_self": null,
            "border": null,
            "bottom": null,
            "display": null,
            "flex": null,
            "flex_flow": null,
            "grid_area": null,
            "grid_auto_columns": null,
            "grid_auto_flow": null,
            "grid_auto_rows": null,
            "grid_column": null,
            "grid_gap": null,
            "grid_row": null,
            "grid_template_areas": null,
            "grid_template_columns": null,
            "grid_template_rows": null,
            "height": null,
            "justify_content": null,
            "justify_items": null,
            "left": null,
            "margin": null,
            "max_height": null,
            "max_width": null,
            "min_height": null,
            "min_width": null,
            "object_fit": null,
            "object_position": null,
            "order": null,
            "overflow": null,
            "overflow_x": null,
            "overflow_y": null,
            "padding": null,
            "right": null,
            "top": null,
            "visibility": null,
            "width": null
          }
        },
        "016d1ff4f4fd4baf9c9abfab556b5250": {
          "model_module": "@jupyter-widgets/output",
          "model_name": "OutputModel",
          "model_module_version": "1.0.0",
          "state": {
            "_dom_classes": [],
            "_model_module": "@jupyter-widgets/output",
            "_model_module_version": "1.0.0",
            "_model_name": "OutputModel",
            "_view_count": null,
            "_view_module": "@jupyter-widgets/output",
            "_view_module_version": "1.0.0",
            "_view_name": "OutputView",
            "layout": "IPY_MODEL_f8b615a42c8946c198ec2dce570776e3",
            "msg_id": "",
            "outputs": [
              {
                "output_type": "display_data",
                "data": {
                  "text/plain": "✨ You're running DeepEval's latest \u001b[38;2;106;0;255mCorrectness (GEval) Metric\u001b[0m! \u001b[38;2;55;65;81m(using Custom Qwen Model, strict=False, async_mode…\u001b[0m\n",
                  "text/html": "<pre style=\"white-space:pre;overflow-x:auto;line-height:normal;font-family:Menlo,'DejaVu Sans Mono',consolas,'Courier New',monospace\">✨ You're running DeepEval's latest <span style=\"color: #6a00ff; text-decoration-color: #6a00ff\">Correctness (GEval) Metric</span>! <span style=\"color: #374151; text-decoration-color: #374151\">(using Custom Qwen Model, strict=False, async_mode…</span>\n</pre>\n"
                },
                "metadata": {}
              }
            ]
          }
        },
        "f8b615a42c8946c198ec2dce570776e3": {
          "model_module": "@jupyter-widgets/base",
          "model_name": "LayoutModel",
          "model_module_version": "1.2.0",
          "state": {
            "_model_module": "@jupyter-widgets/base",
            "_model_module_version": "1.2.0",
            "_model_name": "LayoutModel",
            "_view_count": null,
            "_view_module": "@jupyter-widgets/base",
            "_view_module_version": "1.2.0",
            "_view_name": "LayoutView",
            "align_content": null,
            "align_items": null,
            "align_self": null,
            "border": null,
            "bottom": null,
            "display": null,
            "flex": null,
            "flex_flow": null,
            "grid_area": null,
            "grid_auto_columns": null,
            "grid_auto_flow": null,
            "grid_auto_rows": null,
            "grid_column": null,
            "grid_gap": null,
            "grid_row": null,
            "grid_template_areas": null,
            "grid_template_columns": null,
            "grid_template_rows": null,
            "height": null,
            "justify_content": null,
            "justify_items": null,
            "left": null,
            "margin": null,
            "max_height": null,
            "max_width": null,
            "min_height": null,
            "min_width": null,
            "object_fit": null,
            "object_position": null,
            "order": null,
            "overflow": null,
            "overflow_x": null,
            "overflow_y": null,
            "padding": null,
            "right": null,
            "top": null,
            "visibility": null,
            "width": null
          }
        },
        "6c02d3e2da7e47d69f72e1723f05499b": {
          "model_module": "@jupyter-widgets/output",
          "model_name": "OutputModel",
          "model_module_version": "1.0.0",
          "state": {
            "_dom_classes": [],
            "_model_module": "@jupyter-widgets/output",
            "_model_module_version": "1.0.0",
            "_model_name": "OutputModel",
            "_view_count": null,
            "_view_module": "@jupyter-widgets/output",
            "_view_module_version": "1.0.0",
            "_view_name": "OutputView",
            "layout": "IPY_MODEL_49e9ef7b715c4d87b2e2a84f86f366b4",
            "msg_id": "",
            "outputs": [
              {
                "output_type": "display_data",
                "data": {
                  "text/plain": "✨ You're running DeepEval's latest \u001b[38;2;106;0;255mCorrectness (GEval) Metric\u001b[0m! \u001b[38;2;55;65;81m(using Custom Qwen Model, strict=False, async_mode…\u001b[0m\n",
                  "text/html": "<pre style=\"white-space:pre;overflow-x:auto;line-height:normal;font-family:Menlo,'DejaVu Sans Mono',consolas,'Courier New',monospace\">✨ You're running DeepEval's latest <span style=\"color: #6a00ff; text-decoration-color: #6a00ff\">Correctness (GEval) Metric</span>! <span style=\"color: #374151; text-decoration-color: #374151\">(using Custom Qwen Model, strict=False, async_mode…</span>\n</pre>\n"
                },
                "metadata": {}
              }
            ]
          }
        },
        "49e9ef7b715c4d87b2e2a84f86f366b4": {
          "model_module": "@jupyter-widgets/base",
          "model_name": "LayoutModel",
          "model_module_version": "1.2.0",
          "state": {
            "_model_module": "@jupyter-widgets/base",
            "_model_module_version": "1.2.0",
            "_model_name": "LayoutModel",
            "_view_count": null,
            "_view_module": "@jupyter-widgets/base",
            "_view_module_version": "1.2.0",
            "_view_name": "LayoutView",
            "align_content": null,
            "align_items": null,
            "align_self": null,
            "border": null,
            "bottom": null,
            "display": null,
            "flex": null,
            "flex_flow": null,
            "grid_area": null,
            "grid_auto_columns": null,
            "grid_auto_flow": null,
            "grid_auto_rows": null,
            "grid_column": null,
            "grid_gap": null,
            "grid_row": null,
            "grid_template_areas": null,
            "grid_template_columns": null,
            "grid_template_rows": null,
            "height": null,
            "justify_content": null,
            "justify_items": null,
            "left": null,
            "margin": null,
            "max_height": null,
            "max_width": null,
            "min_height": null,
            "min_width": null,
            "object_fit": null,
            "object_position": null,
            "order": null,
            "overflow": null,
            "overflow_x": null,
            "overflow_y": null,
            "padding": null,
            "right": null,
            "top": null,
            "visibility": null,
            "width": null
          }
        },
        "6de7900b1c344b20bd7268535bd7afdd": {
          "model_module": "@jupyter-widgets/output",
          "model_name": "OutputModel",
          "model_module_version": "1.0.0",
          "state": {
            "_dom_classes": [],
            "_model_module": "@jupyter-widgets/output",
            "_model_module_version": "1.0.0",
            "_model_name": "OutputModel",
            "_view_count": null,
            "_view_module": "@jupyter-widgets/output",
            "_view_module_version": "1.0.0",
            "_view_name": "OutputView",
            "layout": "IPY_MODEL_b5abd17e969d4c4f9b48a958fa1f6c59",
            "msg_id": "",
            "outputs": [
              {
                "output_type": "display_data",
                "data": {
                  "text/plain": "✨ You're running DeepEval's latest \u001b[38;2;106;0;255mCorrectness (GEval) Metric\u001b[0m! \u001b[38;2;55;65;81m(using Custom Qwen Model, strict=False, async_mode…\u001b[0m\n",
                  "text/html": "<pre style=\"white-space:pre;overflow-x:auto;line-height:normal;font-family:Menlo,'DejaVu Sans Mono',consolas,'Courier New',monospace\">✨ You're running DeepEval's latest <span style=\"color: #6a00ff; text-decoration-color: #6a00ff\">Correctness (GEval) Metric</span>! <span style=\"color: #374151; text-decoration-color: #374151\">(using Custom Qwen Model, strict=False, async_mode…</span>\n</pre>\n"
                },
                "metadata": {}
              }
            ]
          }
        },
        "b5abd17e969d4c4f9b48a958fa1f6c59": {
          "model_module": "@jupyter-widgets/base",
          "model_name": "LayoutModel",
          "model_module_version": "1.2.0",
          "state": {
            "_model_module": "@jupyter-widgets/base",
            "_model_module_version": "1.2.0",
            "_model_name": "LayoutModel",
            "_view_count": null,
            "_view_module": "@jupyter-widgets/base",
            "_view_module_version": "1.2.0",
            "_view_name": "LayoutView",
            "align_content": null,
            "align_items": null,
            "align_self": null,
            "border": null,
            "bottom": null,
            "display": null,
            "flex": null,
            "flex_flow": null,
            "grid_area": null,
            "grid_auto_columns": null,
            "grid_auto_flow": null,
            "grid_auto_rows": null,
            "grid_column": null,
            "grid_gap": null,
            "grid_row": null,
            "grid_template_areas": null,
            "grid_template_columns": null,
            "grid_template_rows": null,
            "height": null,
            "justify_content": null,
            "justify_items": null,
            "left": null,
            "margin": null,
            "max_height": null,
            "max_width": null,
            "min_height": null,
            "min_width": null,
            "object_fit": null,
            "object_position": null,
            "order": null,
            "overflow": null,
            "overflow_x": null,
            "overflow_y": null,
            "padding": null,
            "right": null,
            "top": null,
            "visibility": null,
            "width": null
          }
        }
      }
    }
  },
  "cells": [
    {
      "cell_type": "code",
      "execution_count": 1,
      "metadata": {
        "colab": {
          "base_uri": "https://localhost:8080/"
        },
        "id": "7dgoTe4phmKM",
        "outputId": "aac5e2a6-ec4b-437a-e138-9c7768be3c7b"
      },
      "outputs": [
        {
          "output_type": "stream",
          "name": "stdout",
          "text": [
            "\u001b[?25l   \u001b[90m━━━━━━━━━━━━━━━━━━━━━━━━━━━━━━━━━━━━━━━━\u001b[0m \u001b[32m0.0/468.0 kB\u001b[0m \u001b[31m?\u001b[0m eta \u001b[36m-:--:--\u001b[0m\r\u001b[2K   \u001b[91m━━━━━━━━━━━━━━━━━━━━━━━━━━━\u001b[0m\u001b[90m╺\u001b[0m\u001b[90m━━━━━━━━━━━━\u001b[0m \u001b[32m317.4/468.0 kB\u001b[0m \u001b[31m9.3 MB/s\u001b[0m eta \u001b[36m0:00:01\u001b[0m\r\u001b[2K   \u001b[90m━━━━━━━━━━━━━━━━━━━━━━━━━━━━━━━━━━━━━━━━\u001b[0m \u001b[32m468.0/468.0 kB\u001b[0m \u001b[31m7.9 MB/s\u001b[0m eta \u001b[36m0:00:00\u001b[0m\n",
            "\u001b[?25h"
          ]
        }
      ],
      "source": [
        "pip install -U deepeval huggingface_hub --quiet"
      ]
    },
    {
      "cell_type": "code",
      "source": [
        "from deepeval.models.base_model import DeepEvalBaseLLM\n",
        "from huggingface_hub import InferenceClient\n",
        "from google.colab import userdata\n",
        "api = userdata.get('HF_TOKEN')\n",
        "\n",
        "class FinanceFlash(DeepEvalBaseLLM):\n",
        "\n",
        "    def load_model(self):\n",
        "\n",
        "        return InferenceClient(api_key=api)\n",
        "\n",
        "\n",
        "    def generate(self, prompt: str) -> str:\n",
        "        chat_model = self.load_model()\n",
        "        resp = chat_model.chat.completions.create(\n",
        "              model=\"Qwen/Qwen2.5-72B-Instruct\",\n",
        "  \t          messages=[{'role':'user','content':prompt}],\n",
        "  \t          temperature=0.5,\n",
        "  \t          max_tokens=2048,\n",
        "  \t          top_p=0.7,\n",
        "\n",
        "        )\n",
        "        return resp.choices[0].message.content\n",
        "\n",
        "    async def a_generate(self, prompt: str) -> str:\n",
        "        return self.generate(prompt)\n",
        "\n",
        "    def get_model_name(self):\n",
        "        return \"Custom Qwen Model\""
      ],
      "metadata": {
        "id": "18bdJ-0Uh5nu"
      },
      "execution_count": 12,
      "outputs": []
    },
    {
      "cell_type": "code",
      "source": [
        "from deepeval.metrics import GEval\n",
        "from deepeval.test_case import LLMTestCaseParams\n",
        "\n",
        "\n",
        "FinanceModel = FinanceFlash()\n",
        "correctness_metric = GEval(\n",
        "    name=\"Correctness\",\n",
        "    model = FinanceModel,\n",
        "    criteria=\"Determine whether the actual output is factually correct. Act as a Financial Analyst who is judging outputs accordingly\",\n",
        "    # NOTE: you can only provide either criteria or evaluation_steps, and not both\n",
        "    evaluation_steps=[\n",
        "        \"Look over the description for an idea of how the data looks.\",\n",
        "        \"Go over the entire analysis and figure out if there are any factual discrepancies with reference to the description\",\n",
        "        \"If something doesnt make sense financially speaking, penalize.\",\n",
        "        \"You should also heavily penalize omission of detail\",\n",
        "        \"Vague language, or contradicting OPINIONS, are not OK\"\n",
        "    ],\n",
        "    evaluation_params=[LLMTestCaseParams.INPUT, LLMTestCaseParams.ACTUAL_OUTPUT],\n",
        ")"
      ],
      "metadata": {
        "id": "2igp0KhwhpKU"
      },
      "execution_count": 14,
      "outputs": []
    },
    {
      "cell_type": "code",
      "source": [
        "\n",
        "# Need to read this off a file\n",
        "rl_output = {\n",
        "  \"bond_yield_analysis\": [\n",
        "    {\n",
        "      \"bond_type\": \"US_10Y_Yield\",\n",
        "      \"analysis\": {\n",
        "        \"description\": \"This column contains both forecasted and actual 10-year US Treasury yields.\",\n",
        "        \"trend\": \"Slight upward trend over time, ranging from approximately 2.43% to 2.94%\",\n",
        "        \"volatility\": \"Low\",\n",
        "        \"risk_level\": \"Low\",\n",
        "        \"investment_implication\": \"Investors may prefer holding or cautiously considering buying opportunities given the stability of expected yields\",\n",
        "        \"recommendation\": \"HOLD\",\n",
        "        \"timing\": \"BUY NOW\"\n",
        "      }\n",
        "    },\n",
        "    {\n",
        "      \"bond_type\": \"AAA_Bond_Yield\",\n",
        "      \"analysis\": {\n",
        "        \"description\": \"This column includes forecasted and actual yields for AAA-rated bonds, which are considered less volatile due to their high credit rating.\",\n",
        "        \"trend\": \"Moderate volatility, peaking around 5.76% and troughing at 4.09%\",\n",
        "        \"volatility\": \"Moderate\",\n",
        "        \"risk_level\": \"Moderate\",\n",
        "        \"investment_implication\": \"Investors may need to balance their portfolios, possibly holding through uncertain times\",\n",
        "        \"recommendation\": \"HOLD\",\n",
        "        \"timing\": \"HOLD for 3 months\"\n",
        "      }\n",
        "    },\n",
        "    {\n",
        "      \"bond_type\": \"BAA_Bond_Yield\",\n",
        "      \"analysis\": {\n",
        "        \"description\": \"This column tracks the forecasted and actual yields for BAA-rated bonds, which are moderately volatile.\",\n",
        "        \"trend\": \"Noticeable fluctuations, reaching up to nearly 6% and down to 4.40%\",\n",
        "        \"volatility\": \"Medium\",\n",
        "        \"risk_level\": \"Moderate\",\n",
        "        \"investment_implication\": \"Fluctuations may require adjusting investment strategies periodically\",\n",
        "        \"recommendation\": \"HOLD\",\n",
        "        \"timing\": \"HOLD for 6 months\"\n",
        "      }\n",
        "    },\n",
        "    {\n",
        "      \"bond_type\": \"Junk_Bond_Yield\",\n",
        "      \"analysis\": {\n",
        "        \"description\": \"This column contains forecasted and actual yields for junk bonds, known for their high risk and higher yields.\",\n",
        "        \"trend\": \"Significant volatility, with peaks approaching 6% and troughs at around 2.94%\",\n",
        "        \"volatility\": \"High\",\n",
        "        \"risk_level\": \"High\",\n",
        "        \"investment_implication\": \"Investors should exercise caution, avoiding purchases unless expecting substantial gains\",\n",
        "        \"recommendation\": \"SELL\",\n",
        "        \"timing\": \"SELL NOW\"\n",
        "      }\n",
        "    },\n",
        "    {\n",
        "      \"bond_type\": \"US_10Y_Yield_actual\",\n",
        "      \"analysis\": {\n",
        "        \"description\": \"This column focuses solely on the actual 10-year US Treasury yields.\",\n",
        "        \"trend\": \"Pronounced fluctuations, peaking around 4.22% and 4.63%\",\n",
        "        \"volatility\": \"High\",\n",
        "        \"risk_level\": \"High\",\n",
        "        \"investment_implication\": \"Investors should be cautious due to the significant deviation from forecasted values\",\n",
        "        \"recommendation\": \"SELL\",\n",
        "        \"timing\": \"SELL NOW\"\n",
        "      }\n",
        "    },\n",
        "    {\n",
        "      \"bond_type\": \"AAA_Bond_Yield_actual\",\n",
        "      \"analysis\": {\n",
        "        \"description\": \"This column examines the actual yields for AAA-rated bonds.\",\n",
        "        \"trend\": \"Consistent trends, with moderate ups and downs\",\n",
        "        \"volatility\": \"Moderate\",\n",
        "        \"risk_level\": \"Moderate\",\n",
        "        \"investment_implication\": \"Investors may maintain their current positions, monitoring market changes\",\n",
        "        \"recommendation\": \"HOLD\",\n",
        "        \"timing\": \"HOLD for 3 months\"\n",
        "      }\n",
        "    },\n",
        "    {\n",
        "      \"bond_type\": \"BAA_Bond_Yield_actual\",\n",
        "      \"analysis\": {\n",
        "        \"description\": \"This column tracks the actual yields for BAA-rated bonds.\",\n",
        "        \"trend\": \"Noticeable fluctuations, similar to the forecasted counterparts\",\n",
        "        \"volatility\": \"Medium\",\n",
        "        \"risk_level\": \"Moderate\",\n",
        "        \"investment_implication\": \"Investors should stay flexible, adapting to market dynamics\",\n",
        "        \"recommendation\": \"HOLD\",\n",
        "        \"timing\": \"HOLD for 6 months\"\n",
        "      }\n",
        "    },\n",
        "    {\n",
        "      \"bond_type\": \"Junk_Bond_Yield_actual\",\n",
        "      \"analysis\": {\n",
        "        \"description\": \"This column focuses on the actual yields for junk bonds.\",\n",
        "        \"trend\": \"Extreme fluctuations, including sharp increases and decreases\",\n",
        "        \"volatility\": \"High\",\n",
        "        \"risk_level\": \"High\",\n",
        "        \"investment_implication\": \"Investors should approach these bonds with extreme caution, avoiding purchases unless gains are anticipated\",\n",
        "        \"recommendation\": \"AVOID\",\n",
        "        \"timing\": \"DO NOT TRADE\"\n",
        "      }\n",
        "    }\n",
        "  ]\n",
        "}[\"bond_yield_analysis\"]"
      ],
      "metadata": {
        "id": "A4-ZsnQdhwtD"
      },
      "execution_count": 17,
      "outputs": []
    },
    {
      "cell_type": "code",
      "source": [
        "gan_output = {\n",
        "    \"bond_yield_analysis\": [\n",
        "      {\n",
        "        \"bond_type\": \"US_10Y_Yield\",\n",
        "        \"analysis\": {\n",
        "          \"description\": \"This column represents the forecasted US 10-Year Treasury yield. Over time, the yield has shown a general upward trend, with fluctuations due to economic conditions such as inflation, Federal Reserve policies, and global events.\",\n",
        "          \"trend\": \"The yield has increased from approximately 3.02% to 4.19%, indicating a strengthening economy or reduced inflation expectations.\",\n",
        "          \"volatility\": \"Moderate\",\n",
        "          \"risk_factors\": \"Interest rate risk and inflation risk\",\n",
        "          \"investment_implication\": \"Investors may consider holding if the yield stabilizes or continues to rise, especially if expecting continued economic growth.\",\n",
        "          \"recommendation\": \"HOLD\",\n",
        "          \"timing\": \"HOLD NOW\"\n",
        "        }\n",
        "      },\n",
        "      {\n",
        "        \"bond_type\": \"US_10Y_Yield_actual\",\n",
        "        \"analysis\": {\n",
        "          \"description\": \"This column focuses solely on the actual 10-year US Treasury yields.\",\n",
        "          \"trend\": \"Pronounced fluctuations, peaking around 4.22% and 4.63%\",\n",
        "          \"volatility\": \"High\",\n",
        "          \"risk_level\": \"High\",\n",
        "          \"investment_implication\": \"Investors should be cautious due to the significant deviation from forecasted values\",\n",
        "          \"recommendation\": \"SELL\",\n",
        "          \"timing\": \"SELL NOW\"\n",
        "        }\n",
        "      },\n",
        "      {\n",
        "        \"bond_type\": \"AAA_Bond_Yield\",\n",
        "        \"analysis\": {\n",
        "          \"description\": \"This column represents the forecasted AAA bond yield. Over time, the yield has generally increased, though with some variability due to credit rating changes and economic conditions.\",\n",
        "          \"trend\": \"The yield has risen from approximately 4.87% to 5.25%, indicating strong credit demand and economic confidence.\",\n",
        "          \"volatility\": \"Moderate\",\n",
        "          \"risk_factors\": \"Corporate profitability and default risks\",\n",
        "          \"investment_implication\": \"Investors may consider buying if the yield is undervalued relative to longer-term yields.\",\n",
        "          \"recommendation\": \"BUY\",\n",
        "          \"timing\": \"BUY NOW\"\n",
        "        }\n",
        "      },\n",
        "      {\n",
        "        \"bond_type\": \"AAA_Bond_Yield_actual\",\n",
        "        \"analysis\": {\n",
        "          \"description\": \"This column examines the actual yields for AAA-rated bonds.\",\n",
        "          \"trend\": \"Consistent trends, with moderate ups and downs\",\n",
        "          \"volatility\": \"Moderate\",\n",
        "          \"risk_level\": \"Moderate\",\n",
        "          \"investment_implication\": \"Investors may maintain their current positions, monitoring market changes\",\n",
        "          \"recommendation\": \"HOLD\",\n",
        "          \"timing\": \"HOLD for 3 months\"\n",
        "        }\n",
        "      },\n",
        "      {\n",
        "        \"bond_type\": \"BAA_Bond_Yield\",\n",
        "        \"analysis\": {\n",
        "          \"description\": \"This column represents the forecasted BAA bond yield. Over time, the yield has shown moderate volatility, with ups and downs influenced by credit risk and economic factors.\",\n",
        "          \"trend\": \"The yield has increased moderately, from approximately 5.09% to 5.82%, reflecting shifting credit conditions.\",\n",
        "          \"volatility\": \"Significant\",\n",
        "          \"risk_factors\": \"Credit risk and economic conditions\",\n",
        "          \"investment_implication\": \"Buyers may consider entering if the yield is undervalued compared to AAA bonds.\",\n",
        "          \"recommendation\": \"BUY\",\n",
        "          \"timing\": \"BUY NOW\"\n",
        "        }\n",
        "      },\n",
        "      {\n",
        "        \"bond_type\": \"BAA_Bond_Yield_actual\",\n",
        "        \"analysis\": {\n",
        "          \"description\": \"This column tracks the actual yields for BAA-rated bonds.\",\n",
        "          \"trend\": \"Noticeable fluctuations, similar to the forecasted counterparts\",\n",
        "          \"volatility\": \"Medium\",\n",
        "          \"risk_level\": \"Moderate\",\n",
        "          \"investment_implication\": \"Investors should stay flexible, adapting to market dynamics\",\n",
        "          \"recommendation\": \"HOLD\",\n",
        "          \"timing\": \"HOLD for 6 months\"\n",
        "        }\n",
        "      },\n",
        "      {\n",
        "        \"bond_type\": \"Junk_Bond_Yield\",\n",
        "        \"analysis\": {\n",
        "          \"description\": \"This column represents the forecasted junk bond yield. Over time, the yield has shown significant volatility, driven by default risks and economic uncertainty.\",\n",
        "          \"trend\": \"The yield has experienced sharp increases and decreases, ranging from 2.81% to 5.32%, reflecting high risk.\",\n",
        "          \"volatility\": \"High\",\n",
        "          \"risk_factors\": \"Default risks and investor sentiment toward speculative-grade bonds\",\n",
        "          \"investment_implication\": \"Investors should exercise caution due to the high risk of default.\",\n",
        "          \"recommendation\": \"SELL\",\n",
        "          \"timing\": \"SELL NOW\"\n",
        "        }\n",
        "      },\n",
        "      {\n",
        "        \"bond_type\": \"Junk_Bond_Yield_actual\",\n",
        "        \"analysis\": {\n",
        "          \"description\": \"This column focuses on the actual yields for junk bonds.\",\n",
        "          \"trend\": \"Extreme fluctuations, including sharp increases and decreases\",\n",
        "          \"volatility\": \"High\",\n",
        "          \"risk_level\": \"High\",\n",
        "          \"investment_implication\": \"Investors should approach these bonds with extreme caution, avoiding purchases unless gains are anticipated\",\n",
        "          \"recommendation\": \"AVOID\",\n",
        "          \"timing\": \"DO NOT TRADE\"\n",
        "        }\n",
        "      }\n",
        "    ]\n",
        "  }[\"bond_yield_analysis\"]"
      ],
      "metadata": {
        "id": "t5vmhOV2kd-Z"
      },
      "execution_count": 18,
      "outputs": []
    },
    {
      "cell_type": "code",
      "source": [
        "rl_eval = []\n",
        "from deepeval.test_case import LLMTestCase\n",
        "\n",
        "\n",
        "for output in rl_output:\n",
        "    test_case = LLMTestCase(\n",
        "        input=\"\"\"You are a senior financial advisor specializing in fixed income and bond markets, with over 20 years of experience. Your expertise covers analyzing market trends, forecasting yield movements, and evaluating risk factors.\n",
        "\n",
        "Using the data provided below:\n",
        "1. Forecasted bond yields for the next 3 months from two ARIMA models based off different datas\n",
        "2. Historical bond yield data for the past 12 months\n",
        "\n",
        "Please analyze these details thoroughly and offer clear investment recommendations. consider:\n",
        "- Analysis of the forecasted trends\n",
        "- Comparison with historical performance\n",
        "- Consideration of yield volatility and risk-return trade-offs\n",
        "\"\"\",\n",
        "        actual_output=str(output),\n",
        "    )\n",
        "    correctness_metric.measure(test_case)\n",
        "    rl_eval.append({\"pred\":output,\"eval\":correctness_metric.score,\"reason\":correctness_metric.reason})\n",
        "\n"
      ],
      "metadata": {
        "colab": {
          "base_uri": "https://localhost:8080/",
          "height": 145,
          "referenced_widgets": [
            "391ef9f415844ea5b31afb8a9f2473da",
            "8d4613fb58e443feb49f5aff76adb1fc",
            "5d8d5eb1afc9408f946b819cafb7aa8a",
            "0dff2381c9bc4bb1a4fdf514a1cca464",
            "233b68dd217340dca0c2b79d4be6182f",
            "45f65dc6899a4b288ff8695f84539685",
            "13660d77a4f74d8ca4782aa2c0aba7f5",
            "251bc9d4d36747d5be20458e63ebe5ff",
            "4269a15fbc0148b4950e36065a8cce16",
            "933e0fe5dd294332b0de80fbfcb0ae7a",
            "6dd084d99419461bbc6c8552ee04a2f8",
            "07bf6a49edb8468d80a6622a20450c06",
            "5bb46958cc88430fb009b41e7cf47039",
            "e2eca17f912b4d8b81da3e8f5d518860",
            "76774c8409f34bbd920a21fe37488e95",
            "187b2cd6dc104aa59822f1505ecc42c7"
          ]
        },
        "id": "8Fovt6JSkrBk",
        "outputId": "9b4587a5-dcf2-4fbc-9778-2fa5a69b2c99"
      },
      "execution_count": 28,
      "outputs": [
        {
          "output_type": "display_data",
          "data": {
            "text/plain": [
              "Output()"
            ],
            "application/vnd.jupyter.widget-view+json": {
              "version_major": 2,
              "version_minor": 0,
              "model_id": "391ef9f415844ea5b31afb8a9f2473da"
            }
          },
          "metadata": {}
        },
        {
          "output_type": "display_data",
          "data": {
            "text/plain": [
              "Event loop is already running. Applying nest_asyncio patch to allow async execution...\n"
            ],
            "text/html": [
              "<pre style=\"white-space:pre;overflow-x:auto;line-height:normal;font-family:Menlo,'DejaVu Sans Mono',consolas,'Courier New',monospace\">Event loop is already running. Applying nest_asyncio patch to allow async execution...\n",
              "</pre>\n"
            ]
          },
          "metadata": {}
        },
        {
          "output_type": "display_data",
          "data": {
            "text/plain": [],
            "text/html": [
              "<pre style=\"white-space:pre;overflow-x:auto;line-height:normal;font-family:Menlo,'DejaVu Sans Mono',consolas,'Courier New',monospace\"></pre>\n"
            ]
          },
          "metadata": {}
        },
        {
          "output_type": "display_data",
          "data": {
            "text/plain": [
              "Output()"
            ],
            "application/vnd.jupyter.widget-view+json": {
              "version_major": 2,
              "version_minor": 0,
              "model_id": "5d8d5eb1afc9408f946b819cafb7aa8a"
            }
          },
          "metadata": {}
        },
        {
          "output_type": "display_data",
          "data": {
            "text/plain": [
              "Event loop is already running. Applying nest_asyncio patch to allow async execution...\n"
            ],
            "text/html": [
              "<pre style=\"white-space:pre;overflow-x:auto;line-height:normal;font-family:Menlo,'DejaVu Sans Mono',consolas,'Courier New',monospace\">Event loop is already running. Applying nest_asyncio patch to allow async execution...\n",
              "</pre>\n"
            ]
          },
          "metadata": {}
        },
        {
          "output_type": "display_data",
          "data": {
            "text/plain": [],
            "text/html": [
              "<pre style=\"white-space:pre;overflow-x:auto;line-height:normal;font-family:Menlo,'DejaVu Sans Mono',consolas,'Courier New',monospace\"></pre>\n"
            ]
          },
          "metadata": {}
        },
        {
          "output_type": "display_data",
          "data": {
            "text/plain": [
              "Output()"
            ],
            "application/vnd.jupyter.widget-view+json": {
              "version_major": 2,
              "version_minor": 0,
              "model_id": "233b68dd217340dca0c2b79d4be6182f"
            }
          },
          "metadata": {}
        },
        {
          "output_type": "display_data",
          "data": {
            "text/plain": [
              "Event loop is already running. Applying nest_asyncio patch to allow async execution...\n"
            ],
            "text/html": [
              "<pre style=\"white-space:pre;overflow-x:auto;line-height:normal;font-family:Menlo,'DejaVu Sans Mono',consolas,'Courier New',monospace\">Event loop is already running. Applying nest_asyncio patch to allow async execution...\n",
              "</pre>\n"
            ]
          },
          "metadata": {}
        },
        {
          "output_type": "display_data",
          "data": {
            "text/plain": [],
            "text/html": [
              "<pre style=\"white-space:pre;overflow-x:auto;line-height:normal;font-family:Menlo,'DejaVu Sans Mono',consolas,'Courier New',monospace\"></pre>\n"
            ]
          },
          "metadata": {}
        },
        {
          "output_type": "display_data",
          "data": {
            "text/plain": [
              "Output()"
            ],
            "application/vnd.jupyter.widget-view+json": {
              "version_major": 2,
              "version_minor": 0,
              "model_id": "13660d77a4f74d8ca4782aa2c0aba7f5"
            }
          },
          "metadata": {}
        },
        {
          "output_type": "display_data",
          "data": {
            "text/plain": [
              "Event loop is already running. Applying nest_asyncio patch to allow async execution...\n"
            ],
            "text/html": [
              "<pre style=\"white-space:pre;overflow-x:auto;line-height:normal;font-family:Menlo,'DejaVu Sans Mono',consolas,'Courier New',monospace\">Event loop is already running. Applying nest_asyncio patch to allow async execution...\n",
              "</pre>\n"
            ]
          },
          "metadata": {}
        },
        {
          "output_type": "display_data",
          "data": {
            "text/plain": [],
            "text/html": [
              "<pre style=\"white-space:pre;overflow-x:auto;line-height:normal;font-family:Menlo,'DejaVu Sans Mono',consolas,'Courier New',monospace\"></pre>\n"
            ]
          },
          "metadata": {}
        },
        {
          "output_type": "display_data",
          "data": {
            "text/plain": [
              "Output()"
            ],
            "application/vnd.jupyter.widget-view+json": {
              "version_major": 2,
              "version_minor": 0,
              "model_id": "4269a15fbc0148b4950e36065a8cce16"
            }
          },
          "metadata": {}
        },
        {
          "output_type": "display_data",
          "data": {
            "text/plain": [
              "Event loop is already running. Applying nest_asyncio patch to allow async execution...\n"
            ],
            "text/html": [
              "<pre style=\"white-space:pre;overflow-x:auto;line-height:normal;font-family:Menlo,'DejaVu Sans Mono',consolas,'Courier New',monospace\">Event loop is already running. Applying nest_asyncio patch to allow async execution...\n",
              "</pre>\n"
            ]
          },
          "metadata": {}
        },
        {
          "output_type": "display_data",
          "data": {
            "text/plain": [],
            "text/html": [
              "<pre style=\"white-space:pre;overflow-x:auto;line-height:normal;font-family:Menlo,'DejaVu Sans Mono',consolas,'Courier New',monospace\"></pre>\n"
            ]
          },
          "metadata": {}
        },
        {
          "output_type": "display_data",
          "data": {
            "text/plain": [
              "Output()"
            ],
            "application/vnd.jupyter.widget-view+json": {
              "version_major": 2,
              "version_minor": 0,
              "model_id": "6dd084d99419461bbc6c8552ee04a2f8"
            }
          },
          "metadata": {}
        },
        {
          "output_type": "display_data",
          "data": {
            "text/plain": [
              "Event loop is already running. Applying nest_asyncio patch to allow async execution...\n"
            ],
            "text/html": [
              "<pre style=\"white-space:pre;overflow-x:auto;line-height:normal;font-family:Menlo,'DejaVu Sans Mono',consolas,'Courier New',monospace\">Event loop is already running. Applying nest_asyncio patch to allow async execution...\n",
              "</pre>\n"
            ]
          },
          "metadata": {}
        },
        {
          "output_type": "display_data",
          "data": {
            "text/plain": [],
            "text/html": [
              "<pre style=\"white-space:pre;overflow-x:auto;line-height:normal;font-family:Menlo,'DejaVu Sans Mono',consolas,'Courier New',monospace\"></pre>\n"
            ]
          },
          "metadata": {}
        },
        {
          "output_type": "display_data",
          "data": {
            "text/plain": [
              "Output()"
            ],
            "application/vnd.jupyter.widget-view+json": {
              "version_major": 2,
              "version_minor": 0,
              "model_id": "5bb46958cc88430fb009b41e7cf47039"
            }
          },
          "metadata": {}
        },
        {
          "output_type": "display_data",
          "data": {
            "text/plain": [
              "Event loop is already running. Applying nest_asyncio patch to allow async execution...\n"
            ],
            "text/html": [
              "<pre style=\"white-space:pre;overflow-x:auto;line-height:normal;font-family:Menlo,'DejaVu Sans Mono',consolas,'Courier New',monospace\">Event loop is already running. Applying nest_asyncio patch to allow async execution...\n",
              "</pre>\n"
            ]
          },
          "metadata": {}
        },
        {
          "output_type": "display_data",
          "data": {
            "text/plain": [],
            "text/html": [
              "<pre style=\"white-space:pre;overflow-x:auto;line-height:normal;font-family:Menlo,'DejaVu Sans Mono',consolas,'Courier New',monospace\"></pre>\n"
            ]
          },
          "metadata": {}
        },
        {
          "output_type": "display_data",
          "data": {
            "text/plain": [
              "Output()"
            ],
            "application/vnd.jupyter.widget-view+json": {
              "version_major": 2,
              "version_minor": 0,
              "model_id": "76774c8409f34bbd920a21fe37488e95"
            }
          },
          "metadata": {}
        },
        {
          "output_type": "display_data",
          "data": {
            "text/plain": [
              "Event loop is already running. Applying nest_asyncio patch to allow async execution...\n"
            ],
            "text/html": [
              "<pre style=\"white-space:pre;overflow-x:auto;line-height:normal;font-family:Menlo,'DejaVu Sans Mono',consolas,'Courier New',monospace\">Event loop is already running. Applying nest_asyncio patch to allow async execution...\n",
              "</pre>\n"
            ]
          },
          "metadata": {}
        },
        {
          "output_type": "display_data",
          "data": {
            "text/plain": [],
            "text/html": [
              "<pre style=\"white-space:pre;overflow-x:auto;line-height:normal;font-family:Menlo,'DejaVu Sans Mono',consolas,'Courier New',monospace\"></pre>\n"
            ]
          },
          "metadata": {}
        }
      ]
    },
    {
      "cell_type": "code",
      "source": [
        "gan_eval = []\n",
        "from deepeval.test_case import LLMTestCase\n",
        "\n",
        "\n",
        "for output in gan_output:\n",
        "    test_case = LLMTestCase(\n",
        "        input=\"\"\"You are a senior financial advisor specializing in fixed income and bond markets, with over 20 years of experience. Your expertise covers analyzing market trends, forecasting yield movements, and evaluating risk factors.\n",
        "\n",
        "Using the data provided below:\n",
        "1. Forecasted bond yields for the next 3 months from two ARIMA models based off different datas\n",
        "2. Historical bond yield data for the past 12 months\n",
        "\n",
        "Please analyze these details thoroughly and offer clear investment recommendations for each of the four bonds (AAA, BAA, US10Y, and Junk). For each bond, consider:\n",
        "- Analysis of the forecasted trends\n",
        "- Comparison with historical performance\n",
        "- Consideration of yield volatility and risk-return trade-offs\n",
        "\"\"\",\n",
        "        actual_output=str(output),\n",
        "    )\n",
        "    correctness_metric.measure(test_case)\n",
        "    gan_eval.append({\"pred\":output,\"eval\":correctness_metric.score,\"reason\":correctness_metric.reason})\n",
        "\n"
      ],
      "metadata": {
        "colab": {
          "base_uri": "https://localhost:8080/",
          "height": 145,
          "referenced_widgets": [
            "09dacf50faf3432eb63f467cb886bbf6",
            "316c7fa1add74cc992e86b2b8efc5cde",
            "f2ea999ba39a4ebeb77a2c763041c9e8",
            "e09619a5bc184638b2e680864e145d34",
            "bdf2dcb914c145429a499ede47659db8",
            "91b9a5752abd44f1a7fde96dd060e458",
            "84f12701eb444ab09abd8b1c14a15b09",
            "99a56df8fb0a4e909144be380fb0a9d5",
            "d07e2cb9e8564db68d913e23d9e07f9a",
            "d8215cc074c74b14a78616ddab01cd3c",
            "016d1ff4f4fd4baf9c9abfab556b5250",
            "f8b615a42c8946c198ec2dce570776e3",
            "6c02d3e2da7e47d69f72e1723f05499b",
            "49e9ef7b715c4d87b2e2a84f86f366b4",
            "6de7900b1c344b20bd7268535bd7afdd",
            "b5abd17e969d4c4f9b48a958fa1f6c59"
          ]
        },
        "id": "2wBmWMFCmakp",
        "outputId": "2bacce03-cad7-4cd2-93c5-2b12f785e018"
      },
      "execution_count": 29,
      "outputs": [
        {
          "output_type": "display_data",
          "data": {
            "text/plain": [
              "Output()"
            ],
            "application/vnd.jupyter.widget-view+json": {
              "version_major": 2,
              "version_minor": 0,
              "model_id": "09dacf50faf3432eb63f467cb886bbf6"
            }
          },
          "metadata": {}
        },
        {
          "output_type": "display_data",
          "data": {
            "text/plain": [
              "Event loop is already running. Applying nest_asyncio patch to allow async execution...\n"
            ],
            "text/html": [
              "<pre style=\"white-space:pre;overflow-x:auto;line-height:normal;font-family:Menlo,'DejaVu Sans Mono',consolas,'Courier New',monospace\">Event loop is already running. Applying nest_asyncio patch to allow async execution...\n",
              "</pre>\n"
            ]
          },
          "metadata": {}
        },
        {
          "output_type": "display_data",
          "data": {
            "text/plain": [],
            "text/html": [
              "<pre style=\"white-space:pre;overflow-x:auto;line-height:normal;font-family:Menlo,'DejaVu Sans Mono',consolas,'Courier New',monospace\"></pre>\n"
            ]
          },
          "metadata": {}
        },
        {
          "output_type": "display_data",
          "data": {
            "text/plain": [
              "Output()"
            ],
            "application/vnd.jupyter.widget-view+json": {
              "version_major": 2,
              "version_minor": 0,
              "model_id": "f2ea999ba39a4ebeb77a2c763041c9e8"
            }
          },
          "metadata": {}
        },
        {
          "output_type": "display_data",
          "data": {
            "text/plain": [
              "Event loop is already running. Applying nest_asyncio patch to allow async execution...\n"
            ],
            "text/html": [
              "<pre style=\"white-space:pre;overflow-x:auto;line-height:normal;font-family:Menlo,'DejaVu Sans Mono',consolas,'Courier New',monospace\">Event loop is already running. Applying nest_asyncio patch to allow async execution...\n",
              "</pre>\n"
            ]
          },
          "metadata": {}
        },
        {
          "output_type": "display_data",
          "data": {
            "text/plain": [],
            "text/html": [
              "<pre style=\"white-space:pre;overflow-x:auto;line-height:normal;font-family:Menlo,'DejaVu Sans Mono',consolas,'Courier New',monospace\"></pre>\n"
            ]
          },
          "metadata": {}
        },
        {
          "output_type": "display_data",
          "data": {
            "text/plain": [
              "Output()"
            ],
            "application/vnd.jupyter.widget-view+json": {
              "version_major": 2,
              "version_minor": 0,
              "model_id": "bdf2dcb914c145429a499ede47659db8"
            }
          },
          "metadata": {}
        },
        {
          "output_type": "display_data",
          "data": {
            "text/plain": [
              "Event loop is already running. Applying nest_asyncio patch to allow async execution...\n"
            ],
            "text/html": [
              "<pre style=\"white-space:pre;overflow-x:auto;line-height:normal;font-family:Menlo,'DejaVu Sans Mono',consolas,'Courier New',monospace\">Event loop is already running. Applying nest_asyncio patch to allow async execution...\n",
              "</pre>\n"
            ]
          },
          "metadata": {}
        },
        {
          "output_type": "display_data",
          "data": {
            "text/plain": [],
            "text/html": [
              "<pre style=\"white-space:pre;overflow-x:auto;line-height:normal;font-family:Menlo,'DejaVu Sans Mono',consolas,'Courier New',monospace\"></pre>\n"
            ]
          },
          "metadata": {}
        },
        {
          "output_type": "display_data",
          "data": {
            "text/plain": [
              "Output()"
            ],
            "application/vnd.jupyter.widget-view+json": {
              "version_major": 2,
              "version_minor": 0,
              "model_id": "84f12701eb444ab09abd8b1c14a15b09"
            }
          },
          "metadata": {}
        },
        {
          "output_type": "display_data",
          "data": {
            "text/plain": [
              "Event loop is already running. Applying nest_asyncio patch to allow async execution...\n"
            ],
            "text/html": [
              "<pre style=\"white-space:pre;overflow-x:auto;line-height:normal;font-family:Menlo,'DejaVu Sans Mono',consolas,'Courier New',monospace\">Event loop is already running. Applying nest_asyncio patch to allow async execution...\n",
              "</pre>\n"
            ]
          },
          "metadata": {}
        },
        {
          "output_type": "display_data",
          "data": {
            "text/plain": [],
            "text/html": [
              "<pre style=\"white-space:pre;overflow-x:auto;line-height:normal;font-family:Menlo,'DejaVu Sans Mono',consolas,'Courier New',monospace\"></pre>\n"
            ]
          },
          "metadata": {}
        },
        {
          "output_type": "display_data",
          "data": {
            "text/plain": [
              "Output()"
            ],
            "application/vnd.jupyter.widget-view+json": {
              "version_major": 2,
              "version_minor": 0,
              "model_id": "d07e2cb9e8564db68d913e23d9e07f9a"
            }
          },
          "metadata": {}
        },
        {
          "output_type": "display_data",
          "data": {
            "text/plain": [
              "Event loop is already running. Applying nest_asyncio patch to allow async execution...\n"
            ],
            "text/html": [
              "<pre style=\"white-space:pre;overflow-x:auto;line-height:normal;font-family:Menlo,'DejaVu Sans Mono',consolas,'Courier New',monospace\">Event loop is already running. Applying nest_asyncio patch to allow async execution...\n",
              "</pre>\n"
            ]
          },
          "metadata": {}
        },
        {
          "output_type": "display_data",
          "data": {
            "text/plain": [],
            "text/html": [
              "<pre style=\"white-space:pre;overflow-x:auto;line-height:normal;font-family:Menlo,'DejaVu Sans Mono',consolas,'Courier New',monospace\"></pre>\n"
            ]
          },
          "metadata": {}
        },
        {
          "output_type": "display_data",
          "data": {
            "text/plain": [
              "Output()"
            ],
            "application/vnd.jupyter.widget-view+json": {
              "version_major": 2,
              "version_minor": 0,
              "model_id": "016d1ff4f4fd4baf9c9abfab556b5250"
            }
          },
          "metadata": {}
        },
        {
          "output_type": "display_data",
          "data": {
            "text/plain": [
              "Event loop is already running. Applying nest_asyncio patch to allow async execution...\n"
            ],
            "text/html": [
              "<pre style=\"white-space:pre;overflow-x:auto;line-height:normal;font-family:Menlo,'DejaVu Sans Mono',consolas,'Courier New',monospace\">Event loop is already running. Applying nest_asyncio patch to allow async execution...\n",
              "</pre>\n"
            ]
          },
          "metadata": {}
        },
        {
          "output_type": "display_data",
          "data": {
            "text/plain": [],
            "text/html": [
              "<pre style=\"white-space:pre;overflow-x:auto;line-height:normal;font-family:Menlo,'DejaVu Sans Mono',consolas,'Courier New',monospace\"></pre>\n"
            ]
          },
          "metadata": {}
        },
        {
          "output_type": "display_data",
          "data": {
            "text/plain": [
              "Output()"
            ],
            "application/vnd.jupyter.widget-view+json": {
              "version_major": 2,
              "version_minor": 0,
              "model_id": "6c02d3e2da7e47d69f72e1723f05499b"
            }
          },
          "metadata": {}
        },
        {
          "output_type": "display_data",
          "data": {
            "text/plain": [
              "Event loop is already running. Applying nest_asyncio patch to allow async execution...\n"
            ],
            "text/html": [
              "<pre style=\"white-space:pre;overflow-x:auto;line-height:normal;font-family:Menlo,'DejaVu Sans Mono',consolas,'Courier New',monospace\">Event loop is already running. Applying nest_asyncio patch to allow async execution...\n",
              "</pre>\n"
            ]
          },
          "metadata": {}
        },
        {
          "output_type": "display_data",
          "data": {
            "text/plain": [],
            "text/html": [
              "<pre style=\"white-space:pre;overflow-x:auto;line-height:normal;font-family:Menlo,'DejaVu Sans Mono',consolas,'Courier New',monospace\"></pre>\n"
            ]
          },
          "metadata": {}
        },
        {
          "output_type": "display_data",
          "data": {
            "text/plain": [
              "Output()"
            ],
            "application/vnd.jupyter.widget-view+json": {
              "version_major": 2,
              "version_minor": 0,
              "model_id": "6de7900b1c344b20bd7268535bd7afdd"
            }
          },
          "metadata": {}
        },
        {
          "output_type": "display_data",
          "data": {
            "text/plain": [
              "Event loop is already running. Applying nest_asyncio patch to allow async execution...\n"
            ],
            "text/html": [
              "<pre style=\"white-space:pre;overflow-x:auto;line-height:normal;font-family:Menlo,'DejaVu Sans Mono',consolas,'Courier New',monospace\">Event loop is already running. Applying nest_asyncio patch to allow async execution...\n",
              "</pre>\n"
            ]
          },
          "metadata": {}
        },
        {
          "output_type": "display_data",
          "data": {
            "text/plain": [],
            "text/html": [
              "<pre style=\"white-space:pre;overflow-x:auto;line-height:normal;font-family:Menlo,'DejaVu Sans Mono',consolas,'Courier New',monospace\"></pre>\n"
            ]
          },
          "metadata": {}
        }
      ]
    },
    {
      "cell_type": "code",
      "source": [
        "rl_eval"
      ],
      "metadata": {
        "colab": {
          "base_uri": "https://localhost:8080/"
        },
        "id": "mWxgRTvdlxwB",
        "outputId": "a8a6d91b-25bd-4d90-bd42-f625cc439efa"
      },
      "execution_count": 30,
      "outputs": [
        {
          "output_type": "execute_result",
          "data": {
            "text/plain": [
              "[{'pred': {'bond_type': 'US_10Y_Yield',\n",
              "   'analysis': {'description': 'This column contains both forecasted and actual 10-year US Treasury yields.',\n",
              "    'trend': 'Slight upward trend over time, ranging from approximately 2.43% to 2.94%',\n",
              "    'volatility': 'Low',\n",
              "    'risk_level': 'Low',\n",
              "    'investment_implication': 'Investors may prefer holding or cautiously considering buying opportunities given the stability of expected yields',\n",
              "    'recommendation': 'HOLD',\n",
              "    'timing': 'BUY NOW'}},\n",
              "  'eval': 0.4,\n",
              "  'reason': 'The analysis provides a basic trend and recommendation but lacks detailed comparison with historical data, omits specific forecasted yields from the two ARIMA models, and does not thoroughly evaluate yield volatility and risk-return trade-offs. The recommendation is also vague and does not align with the provided data.'},\n",
              " {'pred': {'bond_type': 'AAA_Bond_Yield',\n",
              "   'analysis': {'description': 'This column includes forecasted and actual yields for AAA-rated bonds, which are considered less volatile due to their high credit rating.',\n",
              "    'trend': 'Moderate volatility, peaking around 5.76% and troughing at 4.09%',\n",
              "    'volatility': 'Moderate',\n",
              "    'risk_level': 'Moderate',\n",
              "    'investment_implication': 'Investors may need to balance their portfolios, possibly holding through uncertain times',\n",
              "    'recommendation': 'HOLD',\n",
              "    'timing': 'HOLD for 3 months'}},\n",
              "  'eval': 0.6,\n",
              "  'reason': 'The analysis provides a basic overview and recommendation but lacks detailed comparison with historical performance and a thorough risk-return trade-off analysis. The forecasted trends are mentioned, but the reasoning behind the HOLD recommendation is vague and does not fully justify the decision based on the provided data.'},\n",
              " {'pred': {'bond_type': 'BAA_Bond_Yield',\n",
              "   'analysis': {'description': 'This column tracks the forecasted and actual yields for BAA-rated bonds, which are moderately volatile.',\n",
              "    'trend': 'Noticeable fluctuations, reaching up to nearly 6% and down to 4.40%',\n",
              "    'volatility': 'Medium',\n",
              "    'risk_level': 'Moderate',\n",
              "    'investment_implication': 'Fluctuations may require adjusting investment strategies periodically',\n",
              "    'recommendation': 'HOLD',\n",
              "    'timing': 'HOLD for 6 months'}},\n",
              "  'eval': 0.4,\n",
              "  'reason': 'The analysis provides a basic overview but lacks depth in comparing forecasted trends with historical performance. It does not detail the forecasted yields from the two ARIMA models or explain how they differ. The risk-return trade-offs are not thoroughly discussed, and the recommendation is vague without clear reasoning. The volatility and risk level are mentioned but not substantiated with specific data.'},\n",
              " {'pred': {'bond_type': 'Junk_Bond_Yield',\n",
              "   'analysis': {'description': 'This column contains forecasted and actual yields for junk bonds, known for their high risk and higher yields.',\n",
              "    'trend': 'Significant volatility, with peaks approaching 6% and troughs at around 2.94%',\n",
              "    'volatility': 'High',\n",
              "    'risk_level': 'High',\n",
              "    'investment_implication': 'Investors should exercise caution, avoiding purchases unless expecting substantial gains',\n",
              "    'recommendation': 'SELL',\n",
              "    'timing': 'SELL NOW'}},\n",
              "  'eval': 0.4,\n",
              "  'reason': 'The analysis provides a basic overview of the junk bond yield, but it lacks a detailed comparison with historical performance and does not discuss the forecasted trends from the two ARIMA models. The risk-return trade-offs are not thoroughly evaluated, and the recommendation is overly vague, lacking specific financial reasoning.**'},\n",
              " {'pred': {'bond_type': 'US_10Y_Yield_actual',\n",
              "   'analysis': {'description': 'This column focuses solely on the actual 10-year US Treasury yields.',\n",
              "    'trend': 'Pronounced fluctuations, peaking around 4.22% and 4.63%',\n",
              "    'volatility': 'High',\n",
              "    'risk_level': 'High',\n",
              "    'investment_implication': 'Investors should be cautious due to the significant deviation from forecasted values',\n",
              "    'recommendation': 'SELL',\n",
              "    'timing': 'SELL NOW'}},\n",
              "  'eval': 0.3,\n",
              "  'reason': \"The analysis is overly simplistic and lacks depth. It only provides a brief overview of the actual 10-year US Treasury yields without comparing forecasted trends or historical performance. The recommendation to 'SELL NOW' is vague and not supported by a detailed risk-return trade-off analysis. The high risk level is mentioned but not justified with specific data or reasoning.\"},\n",
              " {'pred': {'bond_type': 'AAA_Bond_Yield_actual',\n",
              "   'analysis': {'description': 'This column examines the actual yields for AAA-rated bonds.',\n",
              "    'trend': 'Consistent trends, with moderate ups and downs',\n",
              "    'volatility': 'Moderate',\n",
              "    'risk_level': 'Moderate',\n",
              "    'investment_implication': 'Investors may maintain their current positions, monitoring market changes',\n",
              "    'recommendation': 'HOLD',\n",
              "    'timing': 'HOLD for 3 months'}},\n",
              "  'eval': 0.7,\n",
              "  'reason': 'The analysis provides a clear recommendation and considers historical performance and forecasted trends. However, it lacks a detailed comparison between the two ARIMA models and does not explicitly discuss yield volatility and risk-return trade-offs, which are critical for a comprehensive analysis.'},\n",
              " {'pred': {'bond_type': 'BAA_Bond_Yield_actual',\n",
              "   'analysis': {'description': 'This column tracks the actual yields for BAA-rated bonds.',\n",
              "    'trend': 'Noticeable fluctuations, similar to the forecasted counterparts',\n",
              "    'volatility': 'Medium',\n",
              "    'risk_level': 'Moderate',\n",
              "    'investment_implication': 'Investors should stay flexible, adapting to market dynamics',\n",
              "    'recommendation': 'HOLD',\n",
              "    'timing': 'HOLD for 6 months'}},\n",
              "  'eval': 0.4,\n",
              "  'reason': 'The analysis provides a basic overview but lacks depth and detail. It does not compare the forecasted trends with historical performance, does not evaluate yield volatility and risk-return trade-offs thoroughly, and the recommendation is vague without clear reasoning. The trend description is too general and does not provide specific insights.'},\n",
              " {'pred': {'bond_type': 'Junk_Bond_Yield_actual',\n",
              "   'analysis': {'description': 'This column focuses on the actual yields for junk bonds.',\n",
              "    'trend': 'Extreme fluctuations, including sharp increases and decreases',\n",
              "    'volatility': 'High',\n",
              "    'risk_level': 'High',\n",
              "    'investment_implication': 'Investors should approach these bonds with extreme caution, avoiding purchases unless gains are anticipated',\n",
              "    'recommendation': 'AVOID',\n",
              "    'timing': 'DO NOT TRADE'}},\n",
              "  'eval': 0.4,\n",
              "  'reason': 'The analysis provides a clear recommendation and identifies high risk and volatility, but it lacks a comparison with historical performance and does not consider yield volatility and risk-return trade-offs in detail. The forecasted trends from the ARIMA models are not discussed, and the recommendation is overly vague without specific context from the provided data.'}]"
            ]
          },
          "metadata": {},
          "execution_count": 30
        }
      ]
    },
    {
      "cell_type": "code",
      "source": [
        "gan_eval"
      ],
      "metadata": {
        "colab": {
          "base_uri": "https://localhost:8080/"
        },
        "id": "1vuKOG9dnZAt",
        "outputId": "4b4dcc16-6ec9-4cbf-ed0a-1c220b0b97c8"
      },
      "execution_count": 31,
      "outputs": [
        {
          "output_type": "execute_result",
          "data": {
            "text/plain": [
              "[{'pred': {'bond_type': 'US_10Y_Yield',\n",
              "   'analysis': {'description': 'This column represents the forecasted US 10-Year Treasury yield. Over time, the yield has shown a general upward trend, with fluctuations due to economic conditions such as inflation, Federal Reserve policies, and global events.',\n",
              "    'trend': 'The yield has increased from approximately 3.02% to 4.19%, indicating a strengthening economy or reduced inflation expectations.',\n",
              "    'volatility': 'Moderate',\n",
              "    'risk_factors': 'Interest rate risk and inflation risk',\n",
              "    'investment_implication': 'Investors may consider holding if the yield stabilizes or continues to rise, especially if expecting continued economic growth.',\n",
              "    'recommendation': 'HOLD',\n",
              "    'timing': 'HOLD NOW'}},\n",
              "  'eval': 0.4,\n",
              "  'reason': 'The analysis only covers the US10Y bond, omitting AAA, BAA, and Junk bonds. It provides a trend and recommendation but lacks a detailed comparison with historical performance, consideration of yield volatility, and risk-return trade-offs. The analysis is also vague in terms of financial implications and does not address all the required elements.'},\n",
              " {'pred': {'bond_type': 'US_10Y_Yield_actual',\n",
              "   'analysis': {'description': 'This column focuses solely on the actual 10-year US Treasury yields.',\n",
              "    'trend': 'Pronounced fluctuations, peaking around 4.22% and 4.63%',\n",
              "    'volatility': 'High',\n",
              "    'risk_level': 'High',\n",
              "    'investment_implication': 'Investors should be cautious due to the significant deviation from forecasted values',\n",
              "    'recommendation': 'SELL',\n",
              "    'timing': 'SELL NOW'}},\n",
              "  'eval': 0.3,\n",
              "  'reason': 'The analysis only covers the US10Y bond, omitting AAA, BAA, and Junk bonds. It provides a detailed analysis for US10Y but lacks the required comprehensive coverage for all four bonds. The recommendation is clear but lacks the comparative analysis with historical data and forecasted trends for other bonds.'},\n",
              " {'pred': {'bond_type': 'AAA_Bond_Yield',\n",
              "   'analysis': {'description': 'This column represents the forecasted AAA bond yield. Over time, the yield has generally increased, though with some variability due to credit rating changes and economic conditions.',\n",
              "    'trend': 'The yield has risen from approximately 4.87% to 5.25%, indicating strong credit demand and economic confidence.',\n",
              "    'volatility': 'Moderate',\n",
              "    'risk_factors': 'Corporate profitability and default risks',\n",
              "    'investment_implication': 'Investors may consider buying if the yield is undervalued relative to longer-term yields.',\n",
              "    'recommendation': 'BUY',\n",
              "    'timing': 'BUY NOW'}},\n",
              "  'eval': 0.4,\n",
              "  'reason': 'The analysis only covers one bond type (AAA) and omits the other three (BAA, US10Y, and Junk). The trend analysis is reasonable but lacks a comparison with historical performance. The risk factors and investment implications are mentioned but are not detailed enough. The recommendation is clear but lacks a comprehensive analysis of all four bonds.'},\n",
              " {'pred': {'bond_type': 'AAA_Bond_Yield_actual',\n",
              "   'analysis': {'description': 'This column examines the actual yields for AAA-rated bonds.',\n",
              "    'trend': 'Consistent trends, with moderate ups and downs',\n",
              "    'volatility': 'Moderate',\n",
              "    'risk_level': 'Moderate',\n",
              "    'investment_implication': 'Investors may maintain their current positions, monitoring market changes',\n",
              "    'recommendation': 'HOLD',\n",
              "    'timing': 'HOLD for 3 months'}},\n",
              "  'eval': 0.3,\n",
              "  'reason': 'The analysis only covers one bond (AAA) and omits the other three (BAA, US10Y, and Junk). It lacks a comparison with historical performance and does not consider yield volatility and risk-return trade-offs. The trend and volatility descriptions are vague and not supported by specific data.'},\n",
              " {'pred': {'bond_type': 'BAA_Bond_Yield',\n",
              "   'analysis': {'description': 'This column represents the forecasted BAA bond yield. Over time, the yield has shown moderate volatility, with ups and downs influenced by credit risk and economic factors.',\n",
              "    'trend': 'The yield has increased moderately, from approximately 5.09% to 5.82%, reflecting shifting credit conditions.',\n",
              "    'volatility': 'Significant',\n",
              "    'risk_factors': 'Credit risk and economic conditions',\n",
              "    'investment_implication': 'Buyers may consider entering if the yield is undervalued compared to AAA bonds.',\n",
              "    'recommendation': 'BUY',\n",
              "    'timing': 'BUY NOW'}},\n",
              "  'eval': 0.4,\n",
              "  'reason': 'The analysis only covers BAA bonds and omits AAA, US10Y, and Junk bonds. It provides a trend and volatility analysis but lacks a detailed comparison with historical performance and a thorough risk-return trade-off. The recommendation is vague and not strongly supported by the data.'},\n",
              " {'pred': {'bond_type': 'BAA_Bond_Yield_actual',\n",
              "   'analysis': {'description': 'This column tracks the actual yields for BAA-rated bonds.',\n",
              "    'trend': 'Noticeable fluctuations, similar to the forecasted counterparts',\n",
              "    'volatility': 'Medium',\n",
              "    'risk_level': 'Moderate',\n",
              "    'investment_implication': 'Investors should stay flexible, adapting to market dynamics',\n",
              "    'recommendation': 'HOLD',\n",
              "    'timing': 'HOLD for 6 months'}},\n",
              "  'eval': 0.3,\n",
              "  'reason': 'The analysis only covers BAA bonds and omits AAA, US10Y, and Junk bonds. It lacks a comparison with historical performance and does not provide a detailed risk-return trade-off. The recommendation is vague and does not consider forecasted trends.'},\n",
              " {'pred': {'bond_type': 'Junk_Bond_Yield',\n",
              "   'analysis': {'description': 'This column represents the forecasted junk bond yield. Over time, the yield has shown significant volatility, driven by default risks and economic uncertainty.',\n",
              "    'trend': 'The yield has experienced sharp increases and decreases, ranging from 2.81% to 5.32%, reflecting high risk.',\n",
              "    'volatility': 'High',\n",
              "    'risk_factors': 'Default risks and investor sentiment toward speculative-grade bonds',\n",
              "    'investment_implication': 'Investors should exercise caution due to the high risk of default.',\n",
              "    'recommendation': 'SELL',\n",
              "    'timing': 'SELL NOW'}},\n",
              "  'eval': 0.3,\n",
              "  'reason': 'The analysis only covers one bond type (Junk_Bond_Yield) and omits the other three (AAA, BAA, US10Y). The provided analysis is detailed for the junk bond but lacks the comprehensive coverage required for all four bonds. The forecasted trends and historical performance are not compared for the other bonds, and the risk-return trade-offs are not thoroughly evaluated.'},\n",
              " {'pred': {'bond_type': 'Junk_Bond_Yield_actual',\n",
              "   'analysis': {'description': 'This column focuses on the actual yields for junk bonds.',\n",
              "    'trend': 'Extreme fluctuations, including sharp increases and decreases',\n",
              "    'volatility': 'High',\n",
              "    'risk_level': 'High',\n",
              "    'investment_implication': 'Investors should approach these bonds with extreme caution, avoiding purchases unless gains are anticipated',\n",
              "    'recommendation': 'AVOID',\n",
              "    'timing': 'DO NOT TRADE'}},\n",
              "  'eval': 0.3,\n",
              "  'reason': \"The analysis only covers the Junk bond and omits AAA, BAA, and US10Y bonds. It provides a detailed analysis of the Junk bond's trend, volatility, and risk level, but lacks the required forecasted trends and historical performance comparison. The recommendation is clear but lacks context for the other bonds.\"}]"
            ]
          },
          "metadata": {},
          "execution_count": 31
        }
      ]
    },
    {
      "cell_type": "code",
      "source": [],
      "metadata": {
        "id": "sk7DcOu3nVG2"
      },
      "execution_count": null,
      "outputs": []
    }
  ]
}